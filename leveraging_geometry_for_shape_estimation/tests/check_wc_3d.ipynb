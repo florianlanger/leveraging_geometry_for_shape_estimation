{
 "cells": [
  {
   "cell_type": "code",
   "execution_count": 1,
   "metadata": {},
   "outputs": [],
   "source": [
    "import numpy as np\n",
    "import json"
   ]
  },
  {
   "cell_type": "code",
   "execution_count": 14,
   "metadata": {},
   "outputs": [
    {
     "name": "stdout",
     "output_type": "stream",
     "text": [
      "[[-0.41270554  0.11635343  0.14823058]\n",
      " [ 0.41946393 -0.22351466  0.14825779]\n",
      " [ 0.41947317  0.21247916  0.14824766]\n",
      " [-0.4165476  -0.21805874  0.14824983]\n",
      " [-0.4203759   0.21770734  0.14824028]]\n"
     ]
    }
   ],
   "source": [
    "wc = np.load('/data/cornucopia/fml35/experiments/debug_set/wc_matches/desk_0526_3_000.npy')\n",
    "print(wc)\n",
    "\n",
    "#  \"world_coordinates_matches\": [\n",
    "#                     [\n",
    "#                         -0.41270557045936584,\n",
    "#                         0.11635338515043259,\n",
    "#                         0.14823095500469208\n",
    "#                     ],\n",
    "#                     [\n",
    "#                         0.419463574886322,\n",
    "#                         -0.223514586687088,\n",
    "#                         0.14825814962387085\n",
    "#                     ],\n",
    "#                     [\n",
    "#                         0.4194728434085846,\n",
    "#                         0.21247906982898712,\n",
    "#                         0.14824804663658142\n",
    "#                     ],\n",
    "#                     [\n",
    "#                         -0.41654765605926514,\n",
    "#                         -0.21805863082408905,\n",
    "#                         0.1482502818107605\n",
    "#                     ],\n",
    "#                     [\n",
    "#                         -0.4203759431838989,\n",
    "#                         0.21770726144313812,\n",
    "#                         0.1482405960559845\n",
    "#                     ]\n",
    "#                 ],"
   ]
  },
  {
   "cell_type": "code",
   "execution_count": 11,
   "metadata": {},
   "outputs": [
    {
     "name": "stdout",
     "output_type": "stream",
     "text": [
      "{'category': 'bed', 'name': 'bed_IKEA_FJELLSE_2', 'model': 'model/bed/IKEA_FJELLSE_2/model.obj', 'orientation': 25, 'azim': '202.5', 'elev': '015', 'path': 'bed/IKEA_FJELLSE_2/elev_015_azim_202.5.png', 'model_index': 15001, 'distance': 0.7423269152641296}\n"
     ]
    }
   ],
   "source": [
    "with open('/data/cornucopia/fml35/experiments/test_output_all_s2/nn_infos_gt_cat/bed_0883_00.json','r') as f:\n",
    "    nn_infos = json.load(f)\n",
    "\n",
    "\n",
    "print(nn_infos[\"nearest_neighbours\"][0])"
   ]
  },
  {
   "cell_type": "code",
   "execution_count": 5,
   "metadata": {},
   "outputs": [
    {
     "name": "stdout",
     "output_type": "stream",
     "text": [
      "{'pixels_real': [[140, 163], [147, 59], [91, 201], [112, 122], [87, 124], [161, 150], [156, 149]], 'pixels_rendered': [[168, 170], [147, 57], [135, 217], [115, 83], [94, 53], [202, 167], [181, 169]]}\n"
     ]
    }
   ],
   "source": [
    "with open('/data/cornucopia/fml35/experiments/test_output_all_s2/matches/bed_0883_00_000.json','r') as f:\n",
    "    matches = json.load(f)\n",
    "print(matches)"
   ]
  },
  {
   "cell_type": "code",
   "execution_count": 3,
   "metadata": {},
   "outputs": [],
   "source": [
    "with open('/data/cornucopia/fml35/experiments/shape_estimation/retrieval_plus_keypoints/date_2021_03_28_time_13_13_36_single_encoder_euclidean_s2/tests/epoch_10_predicted_date_2021_06_08_time_19_54_41_swin_epoch_66/date_2021_06_10_time_11_37_47_top_10_gt_z_swin_masks/pose_information.json','r') as f:\n",
    "    all_pose = json.load(f)"
   ]
  },
  {
   "cell_type": "code",
   "execution_count": null,
   "metadata": {},
   "outputs": [],
   "source": []
  }
 ],
 "metadata": {
  "interpreter": {
   "hash": "2b32248b32cb18190abbd4f0a784a70338ce7d4765f38bc190763b9ee5f2d639"
  },
  "kernelspec": {
   "display_name": "Python 3.7.10 64-bit",
   "name": "python3"
  },
  "language_info": {
   "codemirror_mode": {
    "name": "ipython",
    "version": 3
   },
   "file_extension": ".py",
   "mimetype": "text/x-python",
   "name": "python",
   "nbconvert_exporter": "python",
   "pygments_lexer": "ipython3",
   "version": "3.7.10"
  },
  "orig_nbformat": 4
 },
 "nbformat": 4,
 "nbformat_minor": 2
}
