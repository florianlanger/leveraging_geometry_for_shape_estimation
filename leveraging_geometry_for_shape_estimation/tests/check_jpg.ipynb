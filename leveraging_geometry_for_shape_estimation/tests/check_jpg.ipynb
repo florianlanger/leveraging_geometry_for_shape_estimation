{
 "cells": [
  {
   "cell_type": "code",
   "execution_count": 5,
   "metadata": {},
   "outputs": [
    {
     "data": {
      "image/png": "[encoded data removed]",
      "text/plain": [
       "<Figure size 432x288 with 1 Axes>"
      ]
     },
     "metadata": {
      "needs_background": "light"
     },
     "output_type": "display_data"
    }
   ],
   "source": [
    "import numpy as np\n",
    "from glob import glob\n",
    "import cv2\n",
    "from tqdm import tqdm\n",
    "import json\n",
    "import os\n",
    "from matplotlib import pyplot as plt\n",
    "\n",
    "\n",
    "new = cv2.imread('/data/cornucopia/fml35/experiments/debug_segmentation_4/cropped_and_masked/desk_0565_02.jpg')\n",
    "\n",
    "cv2.imwrite('/home/mifs/fml35/code/shape/test_1.jpg',new)\n",
    "cv2.imwrite('/home/mifs/fml35/code/shape/test_2.jpg',new)\n",
    "\n",
    "new1 = cv2.imread('/home/mifs/fml35/code/shape/test_1.jpg')\n",
    "\n",
    "new2 = cv2.imread('/home/mifs/fml35/code/shape/test_2.jpg')\n",
    "\n",
    "\n",
    "mask = (new1 != new2)\n",
    "mask = np.all(mask,axis=2)\n",
    "\n",
    "assert (mask == 0).all()\n",
    "plt.imshow(mask)\n",
    "plt.show()\n"
   ]
  },
  {
   "cell_type": "code",
   "execution_count": null,
   "metadata": {},
   "outputs": [],
   "source": []
  }
 ],
 "metadata": {
  "interpreter": {
   "hash": "1181cd9e184d62ccf7c6362bdea157e035f7efc86a1b5f4127307a4af794b712"
  },
  "kernelspec": {
   "display_name": "Python 3.7.10 64-bit ('torch1.9': virtualenv)",
   "name": "python3"
  },
  "language_info": {
   "codemirror_mode": {
    "name": "ipython",
    "version": 3
   },
   "file_extension": ".py",
   "mimetype": "text/x-python",
   "name": "python",
   "nbconvert_exporter": "python",
   "pygments_lexer": "ipython3",
   "version": "3.7.10"
  },
  "orig_nbformat": 4
 },
 "nbformat": 4,
 "nbformat_minor": 2
}
