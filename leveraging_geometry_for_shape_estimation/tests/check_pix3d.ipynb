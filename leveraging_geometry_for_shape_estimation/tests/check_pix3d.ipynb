{
 "cells": [
  {
   "cell_type": "code",
   "execution_count": 2,
   "metadata": {},
   "outputs": [],
   "source": [
    "import json\n",
    "\n",
    "\n",
    "path = '/data/cvfs/fml35/derivative_datasets/pix3d_new/pix3d.json'\n",
    "with open(path,'r') as f:\n",
    "    pix3d = json.load(f)"
   ]
  },
  {
   "cell_type": "code",
   "execution_count": 3,
   "metadata": {},
   "outputs": [],
   "source": [
    "models = []\n",
    "\n",
    "for data in pix3d:\n",
    "    models.append(data['model'])"
   ]
  },
  {
   "cell_type": "code",
   "execution_count": 4,
   "metadata": {},
   "outputs": [
    {
     "name": "stdout",
     "output_type": "stream",
     "text": [
      "10067\n"
     ]
    }
   ],
   "source": [
    "print(len(models))"
   ]
  },
  {
   "cell_type": "code",
   "execution_count": 19,
   "metadata": {},
   "outputs": [
    {
     "name": "stdout",
     "output_type": "stream",
     "text": [
      "chair IKEA_PATRIK 41\n",
      "chair IKEA_SKRUVSTA 22\n",
      "chair IKEA_MARKUS 107\n",
      "chair IKEA_SNILLE_1 73\n",
      "chair IKEA_JULES_1 102\n"
     ]
    }
   ],
   "source": [
    "from pytorch3d.io import load_obj\n",
    "import torch\n",
    "\n",
    "unique = set(models)\n",
    "import os\n",
    "model_path = '/data/cvfs/fml35/derivative_datasets/pix3d_new/model'\n",
    "\n",
    "for cat in os.listdir(model_path):\n",
    "    for name in os.listdir(model_path + '/' + cat):\n",
    "       \n",
    "        all_verts = []\n",
    "        all_faces = []\n",
    "\n",
    "        files = os.listdir(model_path + '/' + cat + '/' + name)\n",
    "\n",
    "        counter = 0\n",
    "        for file_ in files:\n",
    "            if '.obj' in file_:\n",
    "                counter += 1\n",
    "            \n",
    "        if counter > 1:\n",
    "            print(cat,name,counter)\n",
    "            \n",
    "            # for generic_file in files:\n",
    "            #     if '.obj' in generic_file:\n",
    "            #         verts,faces,_ = load_obj(model_path + '/' + cat + '/' + name + '/' + generic_file)\n",
    "\n",
    "            #         all_verts.append(verts)\n",
    "            #         all_faces.append(faces[0])\n",
    "            #         print('loaded')\n",
    "            \n",
    "            # if len(all_verts) > 1:\n",
    "            #     for i in range(len(all_verts)-1):\n",
    "            #         print\n",
    "            #         assert (torch.abs(all_verts[i] - all_verts[i-1]) < 0.00001).all()\n",
    "\n",
    "            #         assert (all_faces[i] == all_faces[i-1]).all()\n",
    "\n",
    "\n"
   ]
  },
  {
   "cell_type": "code",
   "execution_count": null,
   "metadata": {},
   "outputs": [],
   "source": [
    "\n"
   ]
  }
 ],
 "metadata": {
  "interpreter": {
   "hash": "1181cd9e184d62ccf7c6362bdea157e035f7efc86a1b5f4127307a4af794b712"
  },
  "kernelspec": {
   "display_name": "Python 3.7.10 64-bit ('torch1.9': virtualenv)",
   "name": "python3"
  },
  "language_info": {
   "codemirror_mode": {
    "name": "ipython",
    "version": 3
   },
   "file_extension": ".py",
   "mimetype": "text/x-python",
   "name": "python",
   "nbconvert_exporter": "python",
   "pygments_lexer": "ipython3",
   "version": "3.7.10"
  },
  "orig_nbformat": 4
 },
 "nbformat": 4,
 "nbformat_minor": 2
}
