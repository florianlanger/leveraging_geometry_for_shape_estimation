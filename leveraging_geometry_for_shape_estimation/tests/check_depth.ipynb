{
 "cells": [
  {
   "cell_type": "code",
   "execution_count": 48,
   "metadata": {},
   "outputs": [
    {
     "name": "stdout",
     "output_type": "stream",
     "text": [
      "new[~mask] [1.5946156]\n",
      "old[~mask] [-1.]\n",
      "new[~mask] [0.71586883]\n",
      "old[~mask] [-1.]\n",
      "new[~mask] [0.9494523]\n",
      "old[~mask] [-1.]\n",
      "new[~mask] [0.9494543]\n",
      "old[~mask] [-1.]\n",
      "new[~mask] [0.92645055]\n",
      "old[~mask] [-1.]\n",
      "new[~mask] [0.796117]\n",
      "old[~mask] [1.0991615]\n",
      "new[~mask] [0.79610133]\n",
      "old[~mask] [1.0995454]\n",
      "new[~mask] [1.5127388]\n",
      "old[~mask] [-1.]\n",
      "new[~mask] [1.5127422]\n",
      "old[~mask] [-1.]\n",
      "new[~mask] [1.3767473]\n",
      "old[~mask] [-1.]\n",
      "new[~mask] [1.376731]\n",
      "old[~mask] [-1.]\n",
      "new[~mask] [1.3767414]\n",
      "old[~mask] [-1.]\n",
      "new[~mask] [1.3767555]\n",
      "old[~mask] [-1.]\n"
     ]
    }
   ],
   "source": [
    "from glob import glob\n",
    "import numpy as np\n",
    "from matplotlib import pyplot as plt\n",
    "\n",
    "new_depths = '/data/cornucopia/fml35/experiments/test_output_all_1/models/depth/'\n",
    "old_depths = '/data/cvfs/fml35/derivative_datasets/pix3d_new/own_data/depth/256/'\n",
    "# new_depths = '/data/cvfs/fml35/derivative_datasets/pix3d_new/own_data/depth/dummy_test/'\n",
    "\n",
    "all_diffs = []\n",
    "counter = 0\n",
    "for new_path in glob(new_depths + '*/*/*'):#['/data/cornucopia/fml35/experiments/test_output_all_1/models/depth/bed/IKEA_MALM_2/elev_015_azim_135.0.npy']:#glob(new_depths + '*/*/*'):#['/data/cornucopia/fml35/experiments/test_output_all_1/models/depth/bed/IKEA_MALM_2/elev_000_azim_135.0.npy']:#glob(new_depths + '*/*/*'):\n",
    "    # print(new_path)\n",
    "    old_path = new_path.replace(new_depths,old_depths).replace('2.5.','2.0.').replace('7.5.','8.0.')\n",
    "\n",
    "    old = np.load(old_path)\n",
    "    # plt.imshow(old)\n",
    "    # plt.show()\n",
    "    new = np.load(new_path)\n",
    "    # print(old[125,125])\n",
    "    \n",
    "    # plt.imshow(new)\n",
    "    # plt.show()\n",
    "    counter += 1\n",
    "    # print(new[125,125])\n",
    "\n",
    "    mask = (np.abs(old - new) < 0.1)\n",
    "    if not mask.all():\n",
    "        print('new[~mask]',new[~mask])\n",
    "        print('old[~mask]',old[~mask])\n",
    "    # # print(mask[:3,:3])\n",
    "    #     plt.imshow(mask)\n",
    "    #     plt.show()\n",
    "    all_diffs.append(np.max(np.abs(old - new)))\n",
    "    \n",
    "    # assert (np.abs(old - new) < 0.00003).all()\n",
    "    # if counter > 5:\n",
    "    #     break"
   ]
  },
  {
   "cell_type": "code",
   "execution_count": 47,
   "metadata": {},
   "outputs": [
    {
     "name": "stdout",
     "output_type": "stream",
     "text": [
      "13\n"
     ]
    }
   ],
   "source": [
    "print(sum(np.array(all_diffs) > 0.1))"
   ]
  },
  {
   "cell_type": "code",
   "execution_count": null,
   "metadata": {},
   "outputs": [],
   "source": []
  }
 ],
 "metadata": {
  "interpreter": {
   "hash": "2b32248b32cb18190abbd4f0a784a70338ce7d4765f38bc190763b9ee5f2d639"
  },
  "kernelspec": {
   "display_name": "Python 3.7.10 64-bit",
   "name": "python3"
  },
  "language_info": {
   "codemirror_mode": {
    "name": "ipython",
    "version": 3
   },
   "file_extension": ".py",
   "mimetype": "text/x-python",
   "name": "python",
   "nbconvert_exporter": "python",
   "pygments_lexer": "ipython3",
   "version": "3.7.10"
  },
  "orig_nbformat": 4
 },
 "nbformat": 4,
 "nbformat_minor": 2
}
