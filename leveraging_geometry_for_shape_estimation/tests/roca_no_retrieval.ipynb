{
 "cells": [
  {
   "cell_type": "code",
   "execution_count": 1,
   "metadata": {},
   "outputs": [],
   "source": [
    "import json"
   ]
  },
  {
   "cell_type": "code",
   "execution_count": 2,
   "metadata": {},
   "outputs": [],
   "source": [
    "with open('/scratch2/fml35/datasets/scannet/scan2cad_annotations/cad_appearances.json','r') as f:\n",
    "    cad_appearances = json.load(f)"
   ]
  },
  {
   "cell_type": "code",
   "execution_count": 3,
   "metadata": {},
   "outputs": [],
   "source": [
    "with open('/scratch2/fml35/results/ROCA/per_frame_best.json','r') as f:\n",
    "    per_frame = json.load(f)"
   ]
  },
  {
   "cell_type": "code",
   "execution_count": 7,
   "metadata": {},
   "outputs": [],
   "source": [
    "top = {}\n",
    "top[\"03211117\"] = \"display\"\n",
    "top[\"04379243\"] = \"table\"\n",
    "top[\"02808440\"] = \"bathtub\"\n",
    "top[\"02747177\"] = \"bin\"\n",
    "top[\"04256520\"] = \"sofa\"\n",
    "top[\"03001627\"] = \"chair\"\n",
    "top[\"02933112\"] = \"cabinet\"\n",
    "top[\"02871439\"] = \"bookcase\"\n",
    "top[\"02818832\"] = \"bed\"\n",
    "\n",
    "inv_map = {v: k for k, v in top.items()}"
   ]
  },
  {
   "cell_type": "code",
   "execution_count": 16,
   "metadata": {},
   "outputs": [],
   "source": [
    "count_unexplained_null = 0\n",
    "\n",
    "for img in per_frame:\n",
    "    for detection in per_frame[img]:\n",
    "        if detection[\"scene_cad_id\"] == None:\n",
    "            scene = img.split('/')[0]\n",
    "            catid = inv_map[detection[\"category\"]]\n",
    "            cat_in = False\n",
    "            for key in cad_appearances[scene]:\n",
    "                if catid + '_' in key:\n",
    "                    cat_in = True\n",
    "                    break\n",
    "            if cat_in == False:\n",
    "                count_unexplained_null += 1\n",
    "            # assert cat_in == False, print(catid,scene,detection[\"category\"])"
   ]
  },
  {
   "cell_type": "code",
   "execution_count": 17,
   "metadata": {},
   "outputs": [
    {
     "name": "stdout",
     "output_type": "stream",
     "text": [
      "1464\n"
     ]
    }
   ],
   "source": [
    "print(count_unexplained_null)"
   ]
  },
  {
   "cell_type": "code",
   "execution_count": null,
   "metadata": {},
   "outputs": [],
   "source": []
  }
 ],
 "metadata": {
  "interpreter": {
   "hash": "2b32248b32cb18190abbd4f0a784a70338ce7d4765f38bc190763b9ee5f2d639"
  },
  "kernelspec": {
   "display_name": "Python 3.7.10 64-bit",
   "language": "python",
   "name": "python3"
  },
  "language_info": {
   "codemirror_mode": {
    "name": "ipython",
    "version": 3
   },
   "file_extension": ".py",
   "mimetype": "text/x-python",
   "name": "python",
   "nbconvert_exporter": "python",
   "pygments_lexer": "ipython3",
   "version": "3.7.10"
  },
  "orig_nbformat": 4
 },
 "nbformat": 4,
 "nbformat_minor": 2
}
