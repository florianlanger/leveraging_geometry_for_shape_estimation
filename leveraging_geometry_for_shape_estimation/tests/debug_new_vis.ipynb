{
 "cells": [
  {
   "cell_type": "code",
   "execution_count": 16,
   "metadata": {},
   "outputs": [],
   "source": [
    "import numpy as np\n",
    "new = np.load('/scratch2/fml35/experiments/leveraging_geometry_for_shape/exp_207_debug/compare_arrays/all_factors_T_2d_3d_new.npy')\n",
    "old = np.load('/scratch2/fml35/experiments/leveraging_geometry_for_shape/exp_207_debug/compare_arrays/all_factors_T_2d_3d_old.npy')"
   ]
  },
  {
   "cell_type": "code",
   "execution_count": 17,
   "metadata": {},
   "outputs": [
    {
     "name": "stdout",
     "output_type": "stream",
     "text": [
      "(1600, 62, 65)\n",
      "(1600, 62, 65)\n"
     ]
    }
   ],
   "source": [
    "print(old.shape)\n",
    "print(new.shape)"
   ]
  },
  {
   "cell_type": "code",
   "execution_count": 18,
   "metadata": {},
   "outputs": [],
   "source": [
    "assert (np.abs(old - new) < 0.00001).all()"
   ]
  },
  {
   "cell_type": "code",
   "execution_count": 21,
   "metadata": {},
   "outputs": [],
   "source": [
    "new_1 = np.load('/scratch2/fml35/experiments/leveraging_geometry_for_shape/exp_207_debug/compare_arrays/area_accepted_all_Ts_new.npy')\n",
    "old_1 = np.load('/scratch2/fml35/experiments/leveraging_geometry_for_shape/exp_207_debug/compare_arrays/area_accepted_all_Ts_old.npy')\n"
   ]
  },
  {
   "cell_type": "code",
   "execution_count": 22,
   "metadata": {},
   "outputs": [],
   "source": [
    "assert (np.abs(old - new) < 0.00001).all()"
   ]
  },
  {
   "cell_type": "code",
   "execution_count": 23,
   "metadata": {},
   "outputs": [
    {
     "name": "stdout",
     "output_type": "stream",
     "text": [
      "(1600,)\n"
     ]
    }
   ],
   "source": [
    "print(old_1.shape)\n"
   ]
  },
  {
   "cell_type": "code",
   "execution_count": 24,
   "metadata": {},
   "outputs": [
    {
     "name": "stdout",
     "output_type": "stream",
     "text": [
      "46559.02\n"
     ]
    }
   ],
   "source": [
    "print(old_1[900])"
   ]
  },
  {
   "cell_type": "code",
   "execution_count": null,
   "metadata": {},
   "outputs": [],
   "source": []
  }
 ],
 "metadata": {
  "interpreter": {
   "hash": "763f0bd89d005955138840d942b643cb8e11c03c9835515f19fa55c703967ad3"
  },
  "kernelspec": {
   "display_name": "Python 3.7.10 ('torch1.9': virtualenv)",
   "language": "python",
   "name": "python3"
  },
  "language_info": {
   "codemirror_mode": {
    "name": "ipython",
    "version": 3
   },
   "file_extension": ".py",
   "mimetype": "text/x-python",
   "name": "python",
   "nbconvert_exporter": "python",
   "pygments_lexer": "ipython3",
   "version": "3.7.10"
  },
  "orig_nbformat": 4
 },
 "nbformat": 4,
 "nbformat_minor": 2
}
