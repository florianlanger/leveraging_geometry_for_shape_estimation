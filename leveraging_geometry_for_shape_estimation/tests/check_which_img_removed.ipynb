{
 "cells": [
  {
   "cell_type": "code",
   "execution_count": 11,
   "metadata": {},
   "outputs": [
    {
     "name": "stdout",
     "output_type": "stream",
     "text": [
      "licenses\n",
      "images\n",
      "annotations\n",
      "info\n",
      "categories\n"
     ]
    }
   ],
   "source": [
    "\n",
    "import json\n",
    "\n",
    "with open('/home/mifs/fml35/code/shape/data/pix3d_s2_train.json','r') as f:\n",
    "    pix_3d_orig = json.load(f)\n",
    "\n",
    "with open('/data/cvfs/fml35/derivative_datasets/pix3d_new/pix3d_s2_train.json','r') as f:\n",
    "    pix_3d_new = json.load(f)\n",
    "\n",
    "for key in pix_3d_orig:\n",
    "    print(key)\n"
   ]
  },
  {
   "cell_type": "code",
   "execution_count": 12,
   "metadata": {},
   "outputs": [
    {
     "name": "stdout",
     "output_type": "stream",
     "text": [
      "missing: []\n",
      "added: ['img/table/0045.png']\n"
     ]
    }
   ],
   "source": [
    "\n",
    "new = [pix_3d_new[\"images\"][i][\"file_name\"] for i in range(len(pix_3d_new[\"images\"]))]\n",
    "orig = [pix_3d_orig[\"images\"][i][\"file_name\"] for i in range(len(pix_3d_orig[\"images\"]))]\n",
    "set1 = set(new)\n",
    "set2 = set(orig)\n",
    "\n",
    "missing = list(sorted(set1 - set2))\n",
    "added = list(sorted(set2 - set1))\n",
    "\n",
    "print('missing:', missing)\n",
    "print('added:', added)"
   ]
  },
  {
   "cell_type": "code",
   "execution_count": null,
   "metadata": {},
   "outputs": [],
   "source": []
  }
 ],
 "metadata": {
  "interpreter": {
   "hash": "763f0bd89d005955138840d942b643cb8e11c03c9835515f19fa55c703967ad3"
  },
  "kernelspec": {
   "display_name": "Python 3.7.10 64-bit",
   "language": "python",
   "name": "python3"
  },
  "language_info": {
   "codemirror_mode": {
    "name": "ipython",
    "version": 3
   },
   "file_extension": ".py",
   "mimetype": "text/x-python",
   "name": "python",
   "nbconvert_exporter": "python",
   "pygments_lexer": "ipython3",
   "version": "3.7.10"
  },
  "orig_nbformat": 4
 },
 "nbformat": 4,
 "nbformat_minor": 2
}
