{
 "cells": [
  {
   "cell_type": "code",
   "execution_count": 2,
   "metadata": {},
   "outputs": [],
   "source": [
    "import json"
   ]
  },
  {
   "cell_type": "code",
   "execution_count": 7,
   "metadata": {},
   "outputs": [],
   "source": [
    "path = '/scratch/fml35/datasets/3d_future/3D-FUTURE-scene/GT/train_set.json'\n",
    "with open(path,'r') as f:\n",
    "    annos = json.load(f)"
   ]
  },
  {
   "cell_type": "code",
   "execution_count": 8,
   "metadata": {},
   "outputs": [
    {
     "name": "stdout",
     "output_type": "stream",
     "text": [
      "3\n"
     ]
    }
   ],
   "source": [
    "print(len(annos))"
   ]
  },
  {
   "cell_type": "code",
   "execution_count": 9,
   "metadata": {},
   "outputs": [
    {
     "name": "stdout",
     "output_type": "stream",
     "text": [
      "categories\n",
      "34\n",
      "images\n",
      "14761\n",
      "annotations\n",
      "73513\n",
      "[{'id': 1, 'super-category': 'Cabinet/Shelf/Desk', 'category': 'Children Cabinet'}, {'id': 2, 'super-category': 'Cabinet/Shelf/Desk', 'category': 'Nightstand'}, {'id': 3, 'super-category': 'Cabinet/Shelf/Desk', 'category': 'Bookcase / jewelry Armoire'}, {'id': 4, 'super-category': 'Cabinet/Shelf/Desk', 'category': 'Wardrobe'}, {'id': 5, 'super-category': 'Cabinet/Shelf/Desk', 'category': 'Coffee Table'}, {'id': 6, 'super-category': 'Cabinet/Shelf/Desk', 'category': 'Corner/Side Table'}, {'id': 7, 'super-category': 'Cabinet/Shelf/Desk', 'category': 'Sideboard / Side Cabinet / Console table'}, {'id': 8, 'super-category': 'Cabinet/Shelf/Desk', 'category': 'Wine Cabinet'}, {'id': 9, 'super-category': 'Cabinet/Shelf/Desk', 'category': 'TV Stand'}, {'id': 10, 'super-category': 'Cabinet/Shelf/Desk', 'category': 'Drawer Chest / Corner cabinet'}, {'id': 11, 'super-category': 'Cabinet/Shelf/Desk', 'category': 'Shelf'}, {'id': 12, 'super-category': 'Cabinet/Shelf/Desk', 'category': 'Round End Table'}, {'id': 13, 'super-category': 'Bed', 'category': 'King-size Bed'}, {'id': 14, 'super-category': 'Bed', 'category': 'Bunk Bed'}, {'id': 15, 'super-category': 'Bed', 'category': 'Bed Frame'}, {'id': 16, 'super-category': 'Bed', 'category': 'Single bed'}, {'id': 17, 'super-category': 'Bed', 'category': 'Kids Bed'}, {'id': 18, 'super-category': 'Chair', 'category': 'Dining Chair'}, {'id': 19, 'super-category': 'Chair', 'category': 'Lounge Chair / Cafe Chair / Office Chair'}, {'id': 20, 'super-category': 'Chair', 'category': 'Dressing Chair'}, {'id': 21, 'super-category': 'Chair', 'category': 'Classic Chinese Chair'}, {'id': 22, 'super-category': 'Chair', 'category': 'Barstool'}, {'id': 23, 'super-category': 'Table', 'category': 'Dressing Table'}, {'id': 24, 'super-category': 'Table', 'category': 'Dining Table'}, {'id': 25, 'super-category': 'Table', 'category': 'Desk'}, {'id': 26, 'super-category': 'Sofa', 'category': 'Three-seat / Multi-seat Sofa'}, {'id': 27, 'super-category': 'Sofa', 'category': 'armchair'}, {'id': 28, 'super-category': 'Sofa', 'category': 'Loveseat Sofa'}, {'id': 29, 'super-category': 'Sofa', 'category': 'L-shaped Sofa'}, {'id': 30, 'super-category': 'Sofa', 'category': 'Lazy Sofa'}, {'id': 31, 'super-category': 'Sofa', 'category': 'Chaise Longue Sofa'}, {'id': 32, 'super-category': 'Pier/Stool', 'category': 'Footstool / Sofastool / Bed End Stool / Stool'}, {'id': 33, 'super-category': 'Lighting', 'category': 'Pendant Lamp'}, {'id': 34, 'super-category': 'Lighting', 'category': 'Ceiling Lamp'}]\n",
      "{'id': 1, 'width': 1200, 'height': 1200, 'file_name': '0000000'}\n",
      "{'id': 1, 'image_id': 1, 'category_id': 33, 'segmentation': {'counts': [631406, 14, 1184, 20, 1176, 26, 1172, 30, 1169, 33, 1165, 37, 1162, 39, 1160, 41, 1157, 44, 1155, 46, 1154, 47, 1152, 49, 1150, 51, 1148, 52, 1148, 53, 1146, 55, 1145, 55, 1144, 57, 1143, 57, 1142, 59, 1141, 59, 38, 10, 1093, 59, 37, 13, 1090, 61, 34, 17, 1088, 60, 34, 19, 1087, 62, 31, 21, 9, 7, 1070, 62, 31, 21, 6, 13, 1067, 62, 30, 23, 3, 16, 1066, 61, 16, 1, 4, 1, 8, 25, 1, 19, 1064, 57, 1, 79, 1063, 137, 1063, 57, 1, 5, 3, 1, 5, 1, 4, 3, 1, 2, 3, 1, 3, 48, 1062, 62, 28, 49, 1061, 58, 1, 3, 28, 49, 1061, 58, 1, 3, 28, 50, 1060, 61, 30, 49, 1061, 60, 30, 49, 1061, 60, 30, 49, 1061, 59, 31, 49, 1062, 58, 32, 48, 1062, 58, 33, 47, 1062, 57, 35, 46, 1063, 56, 36, 17, 1, 27, 1063, 55, 38, 15, 3, 25, 1065, 54, 40, 11, 5, 25, 1066, 52, 44, 8, 6, 23, 1067, 51, 46, 7, 6, 23, 1068, 50, 46, 7, 7, 21, 1070, 48, 47, 4, 1, 3, 7, 19, 1072, 46, 48, 4, 1, 3, 8, 17, 1074, 44, 49, 4, 1, 3, 10, 13, 1077, 42, 50, 4, 2, 3, 11, 10, 1079, 40, 52, 2, 3, 3, 18, 4, 1079, 37, 54, 2, 3, 3, 18, 4, 1081, 34, 55, 3, 2, 4, 18, 3, 1083, 30, 57, 3, 3, 3, 18, 4, 1084, 26, 59, 3, 3, 3, 19, 3, 1087, 20, 62, 3, 4, 3, 18, 3, 1090, 14, 65, 3, 4, 3, 18, 3, 1169, 3, 4, 3, 18, 4, 1168, 3, 5, 3, 18, 3, 1168, 3, 5, 3, 18, 3, 1168, 3, 5, 3, 18, 4, 1167, 3, 6, 3, 18, 3, 1167, 3, 6, 3, 18, 3, 1167, 3, 6, 3, 18, 4, 1166, 3, 7, 3, 18, 3, 1166, 3, 7, 3, 18, 3, 1166, 3, 7, 3, 18, 3, 1166, 3, 8, 3, 18, 3, 1165, 3, 8, 3, 18, 3, 1165, 3, 8, 3, 18, 4, 1164, 3, 9, 3, 18, 3, 1164, 3, 9, 3, 18, 3, 1165, 2, 9, 3, 18, 3, 1165, 2, 10, 3, 18, 3, 1164, 2, 10, 3, 18, 3, 1164, 2, 10, 3, 18, 3, 1164, 2, 11, 3, 17, 4, 1163, 2, 11, 3, 18, 3, 1163, 2, 11, 3, 18, 3, 1163, 3, 11, 3, 17, 3, 1163, 3, 11, 3, 18, 3, 1162, 3, 11, 3, 18, 3, 1162, 3, 12, 3, 17, 4, 1161, 3, 12, 3, 18, 3, 1161, 3, 12, 3, 18, 3, 1161, 3, 13, 3, 17, 3, 934, 11, 216, 3, 13, 3, 18, 3, 933, 12, 215, 3, 13, 3, 18, 3, 932, 14, 214, 3, 14, 3, 17, 3, 931, 15, 214, 3, 14, 3, 18, 3, 930, 16, 213, 3, 14, 3, 18, 3, 930, 16, 213, 3, 15, 3, 17, 3, 929, 17, 213, 3, 15, 3, 18, 3, 928, 17, 213, 3, 15, 3, 18, 3, 928, 18, 212, 3, 16, 3, 17, 3, 928, 71, 1, 209, 918, 71, 1, 211, 917, 71, 1, 211, 917, 71, 1, 211, 917, 71, 1, 211, 917, 71, 1, 211, 917, 71, 1, 211, 917, 71, 1, 211, 917, 72, 1, 209, 918, 19, 213, 2, 19, 3, 17, 3, 925, 17, 214, 2, 20, 2, 18, 3, 924, 17, 214, 2, 20, 3, 17, 3, 924, 17, 214, 3, 19, 3, 17, 3, 925, 15, 215, 3, 20, 2, 18, 3, 924, 15, 215, 3, 20, 3, 17, 3, 925, 13, 216, 3, 20, 3, 17, 3, 925, 13, 216, 3, 21, 2, 18, 3, 926, 9, 218, 3, 21, 3, 17, 3, 1153, 3, 21, 3, 17, 3, 1153, 3, 22, 2, 17, 3, 1153, 3, 22, 3, 17, 3, 1152, 3, 22, 3, 17, 3, 1152, 3, 23, 2, 17, 3, 1152, 3, 23, 3, 17, 3, 1151, 3, 23, 3, 17, 3, 1151, 3, 24, 3, 16, 3, 1151, 3, 24, 3, 17, 3, 1150, 3, 24, 3, 17, 3, 1150, 3, 25, 2, 17, 3, 1150, 3, 25, 3, 17, 3, 1149, 3, 25, 3, 17, 3, 1149, 3, 26, 2, 17, 3, 1149, 3, 26, 3, 17, 3, 1149, 2, 26, 3, 17, 3, 1149, 2, 27, 3, 1, 3, 12, 3, 1148, 3, 27, 10, 9, 4, 1148, 2, 26, 13, 8, 3, 1148, 2, 24, 17, 6, 3, 1148, 2, 23, 18, 7, 2, 1148, 2, 22, 20, 6, 3, 1147, 2, 21, 22, 5, 3, 1147, 2, 21, 22, 5, 3, 1147, 3, 20, 23, 5, 3, 1146, 3, 19, 24, 5, 3, 1146, 3, 19, 24, 5, 3, 1146, 3, 19, 24, 6, 3, 1145, 3, 19, 24, 6, 3, 1145, 3, 19, 24, 6, 3, 1145, 3, 19, 24, 7, 3, 1144, 3, 19, 24, 7, 3, 1144, 3, 20, 23, 7, 3, 1144, 3, 20, 22, 9, 3, 1143, 3, 20, 22, 9, 3, 1143, 3, 21, 20, 10, 3, 1143, 3, 22, 18, 12, 2, 1143, 3, 23, 16, 13, 3, 1142, 3, 24, 14, 14, 3, 1142, 3, 26, 10, 16, 3, 1142, 3, 53, 3, 1141, 3, 53, 3, 1141, 3, 16, 10, 27, 3, 1142, 2, 11, 20, 23, 3, 1141, 2, 8, 25, 21, 3, 1140, 3, 6, 29, 19, 4, 1140, 2, 4, 33, 18, 3, 1140, 2, 3, 36, 16, 3, 1140, 2, 1, 39, 15, 3, 1140, 43, 15, 2, 1140, 44, 14, 3, 1139, 2, 1, 43, 12, 3, 1138, 3, 1, 43, 13, 2, 1137, 49, 12, 3, 1135, 51, 11, 3, 1134, 6, 1, 46, 11, 2, 1134, 6, 1, 46, 11, 3, 1132, 55, 10, 3, 1131, 6, 1, 49, 10, 3, 1131, 6, 1, 1, 1, 48, 10, 3, 1129, 7, 1, 50, 10, 3, 1129, 7, 1, 1, 1, 49, 9, 3, 1128, 10, 1, 49, 10, 3, 1127, 8, 1, 1, 1, 50, 9, 3, 1127, 8, 1, 52, 9, 3, 1127, 8, 1, 52, 10, 3, 1125, 9, 1, 53, 9, 3, 1125, 9, 1, 51, 1, 2, 8, 3, 1125, 64, 9, 3, 1123, 10, 1, 54, 9, 6, 1120, 61, 1, 3, 9, 7, 1119, 62, 1, 2, 8, 8, 1119, 62, 1, 18, 1119, 10, 1, 2, 1, 47, 1, 19, 1119, 10, 1, 2, 1, 47, 1, 3, 8, 8, 1119, 65, 9, 7, 1119, 61, 1, 3, 10, 5, 1121, 60, 1, 3, 1136, 12, 1, 47, 1, 2, 1081, 11, 45, 12, 1, 48, 1079, 18, 42, 12, 1, 49, 1076, 22, 40, 9, 1, 2, 1, 49, 1075, 25, 39, 60, 1074, 28, 38, 11, 1, 48, 1073, 30, 37, 11, 1, 47, 1073, 33, 36, 10, 1, 47, 1071, 35, 36, 10, 1, 46, 1072, 36, 36, 9, 1, 46, 1071, 38, 35, 9, 1, 45, 1071, 40, 35, 6, 1, 1, 1, 45, 1070, 41, 35, 6, 1, 1, 1, 44, 1071, 42, 35, 7, 1, 43, 1071, 43, 36, 6, 1, 42, 1072, 44, 36, 3, 1, 44, 1071, 45, 37, 2, 1, 43, 1072, 45, 38, 44, 1073, 44, 40, 41, 1075, 43, 1, 2, 38, 40, 1075, 47, 37, 7, 1, 32, 1076, 44, 1, 2, 36, 8, 1, 30, 1078, 92, 1, 27, 1080, 118, 1082, 48, 2, 2, 3, 2, 2, 3, 2, 1, 4, 1, 1, 3, 1, 6, 1, 10, 4, 19, 1085, 47, 36, 9, 8, 12, 1088, 47, 37, 7, 1109, 46, 40, 4, 1111, 45, 1155, 45, 1155, 44, 1157, 43, 1157, 42, 1159, 41, 1159, 40, 1160, 39, 1162, 38, 1163, 36, 1165, 34, 1167, 32, 1169, 29, 1172, 27, 1175, 23, 1179, 19, 1183, 14, 1193, 2, 524170], 'size': [1200, 1200]}, 'area': 13073, 'bbox': [526.0, 56.0, 238.0, 305.0], 'model_id': 'da64b6ef-d704-404b-a0e3-866d0e091362', 'texture_id': 'da64b6ef-d704-404b-a0e3-866d0e091362', 'fov': 0.9589727771284516, 'style': 'Modern', 'theme': None, 'material': None, 'pose': {'translation': [0.18415942747456682, 0.767061010742188, -3.4571149561873815], 'rotation': [[-0.6092456566301622, 0.0, -0.7929815444745753], [0.0, 1.0000000000000002, 0.0], [0.7929815444745753, 0.0, -0.6092456566301622]], 'euler': [180.0, -52.46502100730813, 180.0]}, 'occlusion': 'NO'}\n",
      "none_counter: 24097\n",
      "14026\n",
      "[0.9589727771284516, 0.9589727771284516, 0.9589727771284516, 0.9589727771284516]\n"
     ]
    }
   ],
   "source": [
    "for key in annos:\n",
    "    print(key)\n",
    "    print(len(annos[key]))\n",
    "\n",
    "print(annos['categories'])\n",
    "print(annos['images'][0])\n",
    "print(annos['annotations'][0])\n",
    "none_counter = 0\n",
    "fovs = {}\n",
    "for i in range(len(annos['annotations'])):\n",
    "    image_id = annos['annotations'][i]['image_id']\n",
    "\n",
    "    fov = annos['annotations'][i]['fov']\n",
    "\n",
    "    if fov != None and fov != '':\n",
    "        assert fov != None,(fov,annos['annotations'][i])\n",
    "        if image_id not in fovs:\n",
    "            fovs[image_id] = [fov]\n",
    "        else:\n",
    "            fovs[image_id].append(fov)\n",
    "    else:\n",
    "        none_counter += 1\n",
    "\n",
    "print('none_counter:',none_counter)\n",
    "print(len(fovs))\n",
    "print(fovs[1])\n",
    "# print(fovs)[1]\n",
    "for key in fovs:\n",
    "    assert len(set(fovs[key])) == 1,(fovs[key],key)\n",
    "\n"
   ]
  },
  {
   "cell_type": "code",
   "execution_count": 6,
   "metadata": {},
   "outputs": [
    {
     "name": "stdout",
     "output_type": "stream",
     "text": [
      "Cabinet/Shelf/Desk\n",
      "Cabinet/Shelf/Desk\n",
      "Cabinet/Shelf/Desk\n",
      "Cabinet/Shelf/Desk\n",
      "Cabinet/Shelf/Desk\n",
      "Cabinet/Shelf/Desk\n",
      "Cabinet/Shelf/Desk\n",
      "Cabinet/Shelf/Desk\n",
      "Cabinet/Shelf/Desk\n",
      "Cabinet/Shelf/Desk\n",
      "Cabinet/Shelf/Desk\n",
      "Cabinet/Shelf/Desk\n",
      "Bed\n",
      "Bed\n",
      "Bed\n",
      "Bed\n",
      "Bed\n",
      "Chair\n",
      "Chair\n",
      "Chair\n",
      "Chair\n",
      "Chair\n",
      "Table\n",
      "Table\n",
      "Table\n",
      "Sofa\n",
      "Sofa\n",
      "Sofa\n",
      "Sofa\n",
      "Sofa\n",
      "Sofa\n",
      "Pier/Stool\n",
      "Lighting\n",
      "Lighting\n"
     ]
    }
   ],
   "source": [
    "for i in range(len(annos['categories'])):\n",
    "    print(annos['categories'][i]['super-category'])"
   ]
  },
  {
   "cell_type": "code",
   "execution_count": null,
   "metadata": {},
   "outputs": [],
   "source": []
  }
 ],
 "metadata": {
  "kernelspec": {
   "display_name": "Python (shape_env_octo)",
   "language": "python",
   "name": "shape_env_octo"
  },
  "language_info": {
   "codemirror_mode": {
    "name": "ipython",
    "version": 3
   },
   "file_extension": ".py",
   "mimetype": "text/x-python",
   "name": "python",
   "nbconvert_exporter": "python",
   "pygments_lexer": "ipython3",
   "version": "3.6.9"
  },
  "orig_nbformat": 4
 },
 "nbformat": 4,
 "nbformat_minor": 2
}
