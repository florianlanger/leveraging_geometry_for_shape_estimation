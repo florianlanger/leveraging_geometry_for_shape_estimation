{
 "cells": [
  {
   "cell_type": "code",
   "execution_count": 6,
   "metadata": {},
   "outputs": [],
   "source": [
    "import json\n",
    "import pandas as pd\n",
    "import SE3\n",
    "from collections import defaultdict\n",
    "\n",
    "def intersect(a, b):\n",
    "    \"\"\" return the intersection of two lists \"\"\"\n",
    "    return list(set(a) & set(b))\n",
    "\n",
    "with open('/scratch2/fml35/results/ROCA/per_frame_best.json','r') as f:\n",
    "    per_frame = json.load(f)\n",
    "\n",
    "\n",
    "df = pd.read_csv('/scratch2/fml35/results/ROCA/raw_results.csv',dtype=str)\n",
    "\n",
    "# scenes = {}\n",
    "# for line in lines:\n",
    "#     scene = line.split(',')[0]\n",
    "\n",
    "#     line = line.replace(line.split(',')[0] + ',','')\n",
    "#     if scene not in scenes:\n",
    "#         scenes[scene] = [line]\n",
    "#     else:\n",
    "#         scenes[scene].append(line)\n",
    "scores_frame = []\n",
    "for image in per_frame:\n",
    "    for detection in per_frame[image]:\n",
    "        scores_frame.append(str(detection[\"score\"]))\n",
    "\n",
    "scores_raw = list(df[\"object_score\"])\n",
    "\n",
    "# print(scores_frame[:10])\n",
    "# print(scores_raw[:10])\n",
    "\n",
    "# print('n frame',len(scores_frame))\n",
    "# print('n raw',len(scores_raw))\n",
    "# print('n intersection',len(intersect(scores_frame,scores_raw)))\n",
    "# print(len(set(scores_raw)))\n",
    "\n",
    "# for i in range(len(scores_raw)):\n",
    "#     if scores_raw[i] not in scores_frame:\n",
    "#         print(scores_raw[i])\n",
    "#         print(df.iloc[i])\n",
    "\n",
    "# def list_duplicates(seq):\n",
    "#     tally = defaultdict(list)\n",
    "#     for i,item in enumerate(seq):\n",
    "#         tally[item].append(i)\n",
    "#     return ((key,locs) for key,locs in tally.items() \n",
    "#                             if len(locs)>1)\n",
    "\n",
    "# for dup in sorted(list_duplicates(scores_raw)):\n",
    "#     print(dup)\n",
    "\n",
    "\n",
    "# print(df.iloc[4811])\n",
    "# print(df.iloc[10089])\n"
   ]
  },
  {
   "cell_type": "code",
   "execution_count": 2,
   "metadata": {},
   "outputs": [
    {
     "name": "stdout",
     "output_type": "stream",
     "text": [
      "scene0663_01/color/000000.jpg\n",
      "{'score': 0.9960930943489075, 'bbox': [318.9104309082031, 1.0792236328125, 479.2693786621094, 141.2074737548828], 't': [0.5776125192642212, -0.28210917115211487, 1.3746026754379272], 'q': [0.06005612388253212, -0.29392731189727783, 0.19125893712043762, -0.9345694780349731], 's': [0.7281332612037659, 0.7198944687843323, 0.7434131503105164], 'category': 'display', 'segmentation': {'size': [360, 480], 'counts': 'Yoa3;j:5J5L4G8F;E;I6L5G8G:N1O101O00001N100000001O00001O0000001O0000001O000000001O001O001O00001O0000001O0000001O00001_HnLj6R3UIPMj6Q3SISMk6m2UITMj6m2TITMl6m2RIUMm6k2RIVMn6k2QIVMn6k2oHWMQ7i2nHYMQ7h2mHZMR7g2lH[MS7]301O001O001O001O000000001O0000000000000000000000000000000000UOXIVMh6j2XIVMh6j2YIUMg6k2YITMh6m2WISMi6m2WISMi6m2WISMi6l2YISMg6m2ZIRMf6n2ZIRMf6n2]IoLc6Q3_ImLa6T3_IjLb6V3_IiLa6W3aIgL_6Y3h0001O000000001O00001O0000001O0000001O000000001O0000000000000000000000000000000001N2MS;'}, 'scene_cad_id': ['03211117', '830b29f6fe5d9e51542a2cfb40957ec8']}\n",
      "id_scan                               scene0663_01\n",
      "objectCategory                             3211117\n",
      "alignedModelId    830b29f6fe5d9e51542a2cfb40957ec8\n",
      "tx                                1.23399817943573\n",
      "ty                               1.942417860031128\n",
      "tz                              0.9161242246627808\n",
      "qw                             -0.5741094946861267\n",
      "qx                             -0.6350336074829102\n",
      "qy                              0.3761601746082306\n",
      "qz                              0.3544491231441498\n",
      "sx                              0.7281332612037659\n",
      "sy                               0.719894289970398\n",
      "sz                              0.7434130907058716\n",
      "object_score                    0.9960930943489075\n",
      "Name: 10703, dtype: object\n"
     ]
    }
   ],
   "source": [
    "for image in per_frame:\n",
    "    print(image)\n",
    "    for detection in per_frame[image]:\n",
    "        print(detection)\n",
    "        break\n",
    "    break\n",
    "index_raw = scores_raw.index(scores_frame[0])\n",
    "print(df.iloc[index_raw])"
   ]
  },
  {
   "cell_type": "code",
   "execution_count": 3,
   "metadata": {},
   "outputs": [
    {
     "name": "stderr",
     "output_type": "stream",
     "text": [
      "** fvcore version of PathManager will be deprecated soon. **\n",
      "** Please migrate to the version in iopath repo. **\n",
      "https://github.com/facebookresearch/iopath \n",
      "\n"
     ]
    }
   ],
   "source": [
    "import numpy as np\n",
    "from leveraging_geometry_for_shape_estimation.data_conversion_scannet.get_infos import get_scene_pose\n",
    "dir_path = '/scratch2/fml35/datasets/scannet/scannet_frames_25k/'\n",
    "\n",
    "with open('/scratch2/fml35/datasets/scannet/scan2cad_annotations/full_annotations.json') as json_file:\n",
    "        all_data = json.load(json_file)\n",
    "\n",
    "for scene_info in all_data:\n",
    "    if scene_info[\"id_scan\"] == df.iloc[index_raw]['id_scan']:\n",
    "        break\n",
    "\n",
    "# print(scene_info)\n"
   ]
  },
  {
   "cell_type": "code",
   "execution_count": 4,
   "metadata": {},
   "outputs": [
    {
     "name": "stdout",
     "output_type": "stream",
     "text": [
      "FRAME  000000\n"
     ]
    }
   ],
   "source": [
    "t_start = detection['t']\n",
    "\n",
    "frame = '000000'\n",
    "print('FRAME ',frame)\n",
    "\n",
    "frame_4by4_path = dir_path + df.iloc[index_raw]['id_scan'] + '/pose/' + frame + '.txt'\n",
    "# print(frame_4by4_path)\n",
    "scene_trs = scene_info[\"trs\"]\n",
    "R_scene_pose,T_scene_pose = get_scene_pose(frame_4by4_path,scene_trs)\n",
    "\n",
    "\n",
    "print('PUT in script. Maybe dont need invert.')\n",
    "\n",
    "\n",
    "invert = np.array([[-1,0,0],[0,-1,0],[0,0,1.]])\n",
    "\n",
    "T = np.matmul(invert,t_start)\n",
    "t_cad = np.matmul(np.linalg.inv(R_scene_pose),np.array(t_start) - T_scene_pose)\n",
    "\n",
    "R = quaternion.as_rotation_matrix(detection['q'])\n",
    "R = np.matmul(invert,R)\n",
    "R = np.matmul(np.linalg.inv(R_scene_pose),R)\n",
    "r_cad = quaternion.as_rotation_matrix(R)\n",
    "\n",
    "\n",
    "# IDEA go from predictions back to kind of like T,R,S of CAD model, thans apply same transformation as in EvalBenchmark script\n",
    "\n",
    "\n",
    "Mscan = SE3.compose_mat4(idscan2trs[id_scan][\"translation\"], idscan2trs[id_scan][\"rotation\"], idscan2trs[id_scan][\"scale\"])\n",
    "Mcad = SE3.compose_mat4(t_cad, r_cad, detection['s'])#, -np.array(model_gt[\"center\"]))\n",
    "\n",
    "t_gt, q_gt, s_gt = SE3.decompose_mat4(np.dot(np.linalg.inv(Mscan), Mcad))\n",
    "\n",
    "\n",
    "\n",
    "\n",
    "\n",
    "t_final = [df.iloc[index_raw]['tx'],df.iloc[index_raw]['ty'],df.iloc[index_raw]['tz']]"
   ]
  },
  {
   "cell_type": "code",
   "execution_count": 5,
   "metadata": {},
   "outputs": [
    {
     "name": "stdout",
     "output_type": "stream",
     "text": [
      "['1.23399817943573', '1.942417860031128', '0.9161242246627808']\n",
      "[-0.8605246  -0.71984232  1.89550064]\n"
     ]
    }
   ],
   "source": []
  },
  {
   "cell_type": "code",
   "execution_count": null,
   "metadata": {},
   "outputs": [],
   "source": []
  }
 ],
 "metadata": {
  "interpreter": {
   "hash": "2b32248b32cb18190abbd4f0a784a70338ce7d4765f38bc190763b9ee5f2d639"
  },
  "kernelspec": {
   "display_name": "Python 3.7.10 64-bit",
   "language": "python",
   "name": "python3"
  },
  "language_info": {
   "codemirror_mode": {
    "name": "ipython",
    "version": 3
   },
   "file_extension": ".py",
   "mimetype": "text/x-python",
   "name": "python",
   "nbconvert_exporter": "python",
   "pygments_lexer": "ipython3",
   "version": "3.7.10"
  },
  "orig_nbformat": 4
 },
 "nbformat": 4,
 "nbformat_minor": 2
}
