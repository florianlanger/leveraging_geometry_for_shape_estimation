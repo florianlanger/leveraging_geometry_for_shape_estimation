{
 "cells": [
  {
   "cell_type": "code",
   "execution_count": 1,
   "metadata": {},
   "outputs": [],
   "source": [
    "import os\n",
    "import numpy as np\n",
    "import sys\n",
    "import socket\n",
    "import pickle\n",
    "import math\n",
    "import os\n",
    "import json\n",
    "from tqdm import tqdm\n",
    "import torch\n",
    "import k3d\n",
    "\n",
    "from pytorch3d.io import load_obj,save_ply\n",
    "from pytorch3d.ops import sample_points_from_meshes,knn_points\n",
    "from pytorch3d.structures import Pointclouds,Meshes"
   ]
  },
  {
   "cell_type": "code",
   "execution_count": 2,
   "metadata": {},
   "outputs": [
    {
     "name": "stderr",
     "output_type": "stream",
     "text": [
      "100%|██████████| 1/1 [00:00<00:00, 3741.57it/s]\n"
     ]
    }
   ],
   "source": [
    "pix_path = '/scratch/fml35/datasets/pix3d_new/'\n",
    "with open(\"/data/cornucopia/fml35/experiments/exp_024_debug/models/model_list.json\",'r') as f:\n",
    "        model_list = json.load(f)[\"models\"]\n",
    "\n",
    "for j in tqdm(range(0,1)):#len(model_list))):\n",
    "    path = pix_path + model_list[j][\"model\"]"
   ]
  },
  {
   "cell_type": "code",
   "execution_count": 3,
   "metadata": {},
   "outputs": [
    {
     "name": "stdout",
     "output_type": "stream",
     "text": [
      "[0.28645244 0.14048965 0.38497746]\n",
      "[-0.28645244 -0.14048965 -0.38497746]\n",
      "verts (137, 3)\n"
     ]
    }
   ],
   "source": [
    "verts_torch,faces_torch,_ = load_obj(path,load_textures=False)\n",
    "\n",
    "verts = verts_torch.numpy()\n",
    "faces = faces_torch[0].numpy()\n",
    "\n",
    "print(np.max(verts,axis=0))\n",
    "print(np.min(verts,axis=0))\n",
    "print('verts',verts.shape)"
   ]
  },
  {
   "cell_type": "code",
   "execution_count": 4,
   "metadata": {},
   "outputs": [],
   "source": [
    "# line_segs = np.zeros((faces.shape[0]*3,6))\n",
    "# counter = 0\n",
    "# checked_pairs = []\n",
    "# for i in range(faces.shape[0]):\n",
    "#     for pair in [[0,1],[1,2],[2,0]]:\n",
    "#         indices = [faces[i,pair[0]],faces[i,pair[1]]]\n",
    "#         if indices not in checked_pairs and indices[::-1] not in checked_pairs:\n",
    "#             line_segs[counter] = np.concatenate((verts[indices[0]],verts[indices[1]]))\n",
    "#             checked_pairs.append(indices)\n",
    "#             counter += 1\n",
    "# line_segs = line_segs[:counter]"
   ]
  },
  {
   "cell_type": "code",
   "execution_count": 5,
   "metadata": {},
   "outputs": [],
   "source": [
    "# dists = np.linalg.norm(line_segs[:,:3] - line_segs[:,3:6],axis=1)\n",
    "# mask = dists > 0.9 * np.max(dists)\n",
    "# long_lines = line_segs[np.where(mask == True)]\n",
    "# print(long_lines)\n",
    "# print(np.linalg.norm(long_lines[:,:3] - long_lines[:,3:6],axis=1))"
   ]
  },
  {
   "cell_type": "code",
   "execution_count": 6,
   "metadata": {},
   "outputs": [],
   "source": [
    "# plot = k3d.plot()\n",
    "\n",
    "# plt_mesh = k3d.mesh(verts, faces)\n",
    "# plot += plt_mesh\n",
    "\n",
    "# # for line in line_segs[:10]:\n",
    "# #     print(line)\n",
    "# # plot += k3d.line([line_segs[:,:3], line_segs[:,3:6]], shader='mesh', width=.003, color=0xff0000)\n",
    "# plot += k3d.line([long_lines[0,:3], long_lines[0,3:6]], shader='mesh', width=.003, color=0xff0000)\n",
    "# plot += k3d.line([long_lines[1,:3], long_lines[1,3:6]], shader='mesh', width=.003, color=0xff0000)\n",
    "# plot += k3d.line([long_lines[2,:3], long_lines[2,3:6]], shader='mesh', width=.003, color=0xff0000)\n",
    "\n",
    "# plot += k3d.points(verts,point_size=0.01,color=(0 + 256*255))\n",
    "# plot.display()"
   ]
  },
  {
   "cell_type": "code",
   "execution_count": 7,
   "metadata": {},
   "outputs": [],
   "source": [
    "n_points = 50000\n",
    "n_nn = 5\n",
    "angle_threshold_degree = 20\n",
    "\n",
    "\n",
    "mesh = Meshes(verts=[verts_torch],faces=[faces_torch[0]])\n",
    "sample_points,sample_normals = sample_points_from_meshes(mesh,n_points,return_normals=True)\n",
    "sample_points = sample_points.squeeze()\n",
    "sample_normals = sample_normals.squeeze()\n",
    "\n",
    "# labels = np.empty(n_points,dtype=bool)\n",
    "\n",
    "# for i in tqdm(range(sample_points.shape[0])):\n",
    "#     dist = torch.norm(sample_points[i].tile(n_points,1) - sample_points, dim=1, p=None)\n",
    "#     knn = dist.topk(n_nn, largest=False)\n",
    "\n",
    "#     current_normal = sample_normals[i].tile(n_nn,1)\n",
    "#     nn_normal = sample_normals[knn.indices]\n",
    "\n",
    "#     # print('current_normal.shape',current_normal.shape)\n",
    "#     # print('nn_normal',nn_normal.shape)\n",
    "#     # print('current_normal.shape',current_normal)\n",
    "#     # print('nn_normal',nn_normal)\n",
    "\n",
    "\n",
    "#     normal_dot = torch.sum(current_normal*nn_normal,dim=1)\n",
    "#     # print(normal_dot.shape)\n",
    "#     # print('normal_dot',normal_dot)\n",
    "#     angles = torch.arccos(normal_dot) * 180 / np.pi\n",
    "#     angles = torch.min(angles,torch.abs(180. - angles))\n",
    "#     # TODO: think if better 180 or 360\n",
    "#     # angles = torch.min(angles,torch.abs(360. - angles))\n",
    "#     # print(angles)\n",
    "#     labels[i] = (torch.max(angles) > angle_threshold_degree).item()"
   ]
  },
  {
   "cell_type": "code",
   "execution_count": 8,
   "metadata": {},
   "outputs": [
    {
     "name": "stderr",
     "output_type": "stream",
     "text": [
      "100%|██████████| 50000/50000 [00:00<00:00, 61540.54it/s]"
     ]
    },
    {
     "name": "stdout",
     "output_type": "stream",
     "text": [
      "(50000,)\n"
     ]
    },
    {
     "name": "stderr",
     "output_type": "stream",
     "text": [
      "\n"
     ]
    }
   ],
   "source": [
    "\n",
    "# find distance between two pointclouds\n",
    "# For each predicted point, find its neareast-neighbor GT point\n",
    "knn_pred = knn_points(sample_points.unsqueeze(0),sample_points.unsqueeze(0), K=n_nn)\n",
    "\n",
    "sample_normals_unsq = sample_normals.unsqueeze(1)\n",
    "sample_normals_tiled = sample_normals_unsq.tile(1,n_nn,1)\n",
    "\n",
    "nn_normals = torch.zeros(n_points,n_nn,3)\n",
    "for i in tqdm(range(n_points)):\n",
    "    n = sample_normals[knn_pred.idx[0,i]]\n",
    "    nn_normals[i] = n\n",
    "    \n",
    "normal_dot = torch.sum(sample_normals_tiled*nn_normals,dim=2)\n",
    "angles = torch.arccos(normal_dot) * 180 / np.pi\n",
    "angles = torch.min(angles,torch.abs(180. - angles))\n",
    "# TODO: think if better 180 or 360\n",
    "# angles = torch.min(angles,torch.abs(360. - angles))\n",
    "max_angles,_ = torch.max(angles,dim=1)\n",
    "labels = (max_angles > angle_threshold_degree)\n",
    "labels = labels.numpy()\n",
    "print(labels.shape)\n",
    "\n"
   ]
  },
  {
   "cell_type": "code",
   "execution_count": 9,
   "metadata": {},
   "outputs": [
    {
     "data": {
      "application/vnd.jupyter.widget-view+json": {
       "model_id": "21a5ca4430224bf9afc564465e55d57e",
       "version_major": 2,
       "version_minor": 0
      },
      "text/plain": [
       "Output()"
      ]
     },
     "metadata": {},
     "output_type": "display_data"
    }
   ],
   "source": [
    "\n",
    "plot = k3d.plot()\n",
    "\n",
    "# plot += k3d.points(sample_points.numpy()[~labels],point_size=0.01,color=(255))\n",
    "plot += k3d.points(sample_points.numpy()[labels],point_size=0.01,color=(0 + 256*255))\n",
    "plot.display()"
   ]
  },
  {
   "cell_type": "code",
   "execution_count": 10,
   "metadata": {},
   "outputs": [],
   "source": [
    "# maybe just do an optimisation, only free parameter is number of lines optimise by adjusting for every line what are the start coordinates and end coordinates\n",
    "# minimise the distance of all points to the nearest line, constrain line endpoints to lie within reasonable volume"
   ]
  }
 ],
 "metadata": {
  "interpreter": {
   "hash": "3a1cf30f84ca77ef33d954ae0226634b0ccbaac8180d9ab13db319006197e49e"
  },
  "kernelspec": {
   "display_name": "Python 3.6.9 64-bit ('shape_env_octo': venv)",
   "language": "python",
   "name": "python3"
  },
  "language_info": {
   "codemirror_mode": {
    "name": "ipython",
    "version": 3
   },
   "file_extension": ".py",
   "mimetype": "text/x-python",
   "name": "python",
   "nbconvert_exporter": "python",
   "pygments_lexer": "ipython3",
   "version": "3.6.9"
  },
  "orig_nbformat": 4
 },
 "nbformat": 4,
 "nbformat_minor": 2
}
