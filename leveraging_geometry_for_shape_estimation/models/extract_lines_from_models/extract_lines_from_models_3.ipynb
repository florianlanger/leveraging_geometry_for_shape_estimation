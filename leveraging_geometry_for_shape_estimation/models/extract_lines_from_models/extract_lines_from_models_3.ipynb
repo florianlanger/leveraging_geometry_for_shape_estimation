{
 "cells": [
  {
   "cell_type": "code",
   "execution_count": 1,
   "metadata": {},
   "outputs": [],
   "source": [
    "import os\n",
    "import numpy as np\n",
    "import sys\n",
    "import socket\n",
    "import pickle\n",
    "import math\n",
    "import os\n",
    "import json\n",
    "from tqdm import tqdm\n",
    "import torch\n",
    "import k3d\n",
    "\n",
    "from pytorch3d.io import load_obj,save_ply\n",
    "from pytorch3d.ops import sample_points_from_meshes,knn_points\n",
    "from pytorch3d.structures import Pointclouds,Meshes"
   ]
  },
  {
   "cell_type": "code",
   "execution_count": 2,
   "metadata": {},
   "outputs": [
    {
     "name": "stderr",
     "output_type": "stream",
     "text": [
      "100%|██████████| 1/1 [00:00<00:00, 7182.03it/s]\n"
     ]
    }
   ],
   "source": [
    "pix_path = '/scratch/fml35/datasets/pix3d_new/'\n",
    "with open(\"/data/cornucopia/fml35/experiments/exp_024_debug/models/model_list.json\",'r') as f:\n",
    "        model_list = json.load(f)[\"models\"]\n",
    "\n",
    "for j in tqdm(range(0,1)):#len(model_list))):\n",
    "    path = pix_path + model_list[j][\"model\"]"
   ]
  },
  {
   "cell_type": "code",
   "execution_count": 3,
   "metadata": {},
   "outputs": [
    {
     "name": "stdout",
     "output_type": "stream",
     "text": [
      "[0.28645244 0.14048965 0.38497746]\n",
      "[-0.28645244 -0.14048965 -0.38497746]\n",
      "verts (137, 3)\n"
     ]
    }
   ],
   "source": [
    "verts_torch,faces_torch,_ = load_obj(path,load_textures=False)\n",
    "\n",
    "verts = verts_torch.numpy()\n",
    "faces = faces_torch[0].numpy()\n",
    "\n",
    "print(np.max(verts,axis=0))\n",
    "print(np.min(verts,axis=0))\n",
    "print('verts',verts.shape)"
   ]
  },
  {
   "cell_type": "code",
   "execution_count": 4,
   "metadata": {},
   "outputs": [],
   "source": [
    "n_points = 50000\n",
    "n_nn = 5\n",
    "angle_threshold_degree = 20\n",
    "\n",
    "\n",
    "mesh = Meshes(verts=[verts_torch],faces=[faces_torch[0]])\n",
    "sample_points,sample_normals = sample_points_from_meshes(mesh,n_points,return_normals=True)\n",
    "sample_points = sample_points.squeeze()\n",
    "sample_normals = sample_normals.squeeze()"
   ]
  },
  {
   "cell_type": "code",
   "execution_count": 5,
   "metadata": {},
   "outputs": [
    {
     "name": "stderr",
     "output_type": "stream",
     "text": [
      "100%|██████████| 50000/50000 [00:00<00:00, 59505.14it/s]\n"
     ]
    },
    {
     "name": "stdout",
     "output_type": "stream",
     "text": [
      "(50000,)\n"
     ]
    }
   ],
   "source": [
    "\n",
    "# find distance between two pointclouds\n",
    "# For each predicted point, find its neareast-neighbor GT point\n",
    "knn_pred = knn_points(sample_points.unsqueeze(0),sample_points.unsqueeze(0), K=n_nn)\n",
    "\n",
    "sample_normals_unsq = sample_normals.unsqueeze(1)\n",
    "sample_normals_tiled = sample_normals_unsq.tile(1,n_nn,1)\n",
    "\n",
    "nn_normals = torch.zeros(n_points,n_nn,3)\n",
    "for i in tqdm(range(n_points)):\n",
    "    n = sample_normals[knn_pred.idx[0,i]]\n",
    "    nn_normals[i] = n\n",
    "    \n",
    "normal_dot = torch.sum(sample_normals_tiled*nn_normals,dim=2)\n",
    "angles = torch.arccos(normal_dot) * 180 / np.pi\n",
    "angles = torch.min(angles,torch.abs(180. - angles))\n",
    "# TODO: think if better 180 or 360\n",
    "# angles = torch.min(angles,torch.abs(360. - angles))\n",
    "max_angles,_ = torch.max(angles,dim=1)\n",
    "labels = (max_angles > angle_threshold_degree)\n",
    "labels = labels.numpy()\n",
    "print(labels.shape)\n",
    "\n"
   ]
  },
  {
   "cell_type": "code",
   "execution_count": 6,
   "metadata": {},
   "outputs": [
    {
     "data": {
      "application/vnd.jupyter.widget-view+json": {
       "model_id": "ca71b92d16a34aac868a4584c2ff8808",
       "version_major": 2,
       "version_minor": 0
      },
      "text/plain": [
       "Output()"
      ]
     },
     "metadata": {},
     "output_type": "display_data"
    }
   ],
   "source": [
    "\n",
    "plot = k3d.plot()\n",
    "\n",
    "# plot += k3d.points(sample_points.numpy()[~labels],point_size=0.01,color=(255))\n",
    "plot += k3d.points(sample_points.numpy()[labels],point_size=0.01,color=(0 + 256*255))\n",
    "plot.display()"
   ]
  },
  {
   "cell_type": "code",
   "execution_count": 7,
   "metadata": {},
   "outputs": [],
   "source": [
    "# maybe just do an optimisation, only free parameter is number of lines optimise by adjusting for every line what are the start coordinates and end coordinates\n",
    "# minimise the distance of all points to the nearest line, constrain line endpoints to lie within reasonable volume\n",
    "\n",
    "def dist_point_line(lp,p):\n",
    "    print(lp.shape)\n",
    "    print(p.shape)\n",
    "    # lp: N_lines x 2 (x1,y1,x2,y2) and p: N_points x 2\n",
    "    N_l = lp.shape[0]\n",
    "    N_p = p.shape[0]\n",
    "\n",
    "    x1 = lp[:,0].repeat(N_p)\n",
    "    y1 = lp[:,1].repeat(N_p)\n",
    "    x2 = lp[:,2].repeat(N_p)\n",
    "    y2 = lp[:,3].repeat(N_p)\n",
    "    x0 = p[:,0].repeat_interleave(N_l)\n",
    "    y0 = p[:,1].repeat_interleave(N_l)\n",
    "\n",
    "\n",
    "    px = x2-x1\n",
    "    py = y2-y1\n",
    "\n",
    "    norm = px*px + py*py\n",
    "\n",
    "    u =  ((x0 - x1) * px + (y0 - y1) * py) / norm\n",
    "\n",
    "    u = torch.clip(u,min=0,max=1)\n",
    "\n",
    "    x = x1 + u * px\n",
    "    y = y1 + u * py\n",
    "\n",
    "    dx = x - x0\n",
    "    dy = y - y0\n",
    "\n",
    "    dist = (dx*dx + dy*dy)**.5\n",
    "\n",
    "    # dist = torch.abs((x2 - x1) * (y1 - y0) - (x1 - x0) * (y2 - y1)) / torch.sqrt((x2-x1)**2 + (y2 -y1)**2)\n",
    "    dist = dist.reshape(N_p,N_l)\n",
    "    dist,_ = torch.min(dist,dim=1)\n",
    "\n",
    "    return dist\n",
    "\n"
   ]
  },
  {
   "cell_type": "code",
   "execution_count": 8,
   "metadata": {},
   "outputs": [],
   "source": [
    "def dist_point_line(lp,p):\n",
    "    # lp: N_lines x 2 (x1,y1,x2,y2) and p: N_points x 2\n",
    "    N_l = lp.shape[0]\n",
    "    N_p = p.shape[0]\n",
    "\n",
    "    x1 = lp[:,0].repeat(N_p)\n",
    "    y1 = lp[:,1].repeat(N_p)\n",
    "    z1 = lp[:,2].repeat(N_p)\n",
    "    x2 = lp[:,3].repeat(N_p)\n",
    "    y2 = lp[:,4].repeat(N_p)\n",
    "    z2 = lp[:,5].repeat(N_p)\n",
    "    x0 = p[:,0].repeat_interleave(N_l)\n",
    "    y0 = p[:,1].repeat_interleave(N_l)\n",
    "    z0 = p[:,2].repeat_interleave(N_l)\n",
    "\n",
    "\n",
    "    px = x2-x1\n",
    "    py = y2-y1\n",
    "    pz = z2-z1\n",
    "\n",
    "    norm = px*px + py*py + pz*pz\n",
    "\n",
    "    # print('norm',norm)\n",
    "\n",
    "    u =  ((x0 - x1) * px + (y0 - y1) * py + (z0 - z1) * pz) / norm\n",
    "\n",
    "    u = torch.clip(u,min=0,max=1)\n",
    "\n",
    "    # print('u',u)\n",
    "\n",
    "    x = x1 + u * px\n",
    "    y = y1 + u * py\n",
    "    z = z1 + u * pz\n",
    "\n",
    "    dx = x - x0\n",
    "    dy = y - y0\n",
    "    dz = z - z0\n",
    "\n",
    "\n",
    "\n",
    "    dist_non_flattened = (dx*dx + dy*dy + dz*dz)#**.5\n",
    "\n",
    "    # print('dist_non_flatten',dist_non_flattened)\n",
    "    # dist = torch.abs(dx) + torch.abs(dy) + torch.abs(dz)\n",
    "\n",
    "    # dist = torch.abs((x2 - x1) * (y1 - y0) - (x1 - x0) * (y2 - y1)) / torch.sqrt((x2-x1)**2 + (y2 -y1)**2)\n",
    "    dist_non_flattened = dist_non_flattened.reshape(N_p,N_l)\n",
    "    dist,_ = torch.min(dist_non_flattened,dim=1)\n",
    "\n",
    "    return dist,dist_non_flattened"
   ]
  },
  {
   "cell_type": "code",
   "execution_count": 9,
   "metadata": {},
   "outputs": [
    {
     "name": "stdout",
     "output_type": "stream",
     "text": [
      "(tensor([0.0000, 0.0900, 0.2500, 1.2500]), tensor([[0.0000, 1.0000],\n",
      "        [0.4900, 0.0900],\n",
      "        [0.2500, 0.2500],\n",
      "        [1.2500, 1.2500]]))\n"
     ]
    }
   ],
   "source": [
    "lp = torch.Tensor([[0,0,0,0,1,0],[1,0,0,1,1,0]])\n",
    "p = torch.Tensor([[0,0,0],[0.7,0.5,0],[0.5,1,0],[0.5,2,0]])\n",
    "print(dist_point_line(lp,p))"
   ]
  },
  {
   "cell_type": "code",
   "execution_count": 15,
   "metadata": {},
   "outputs": [],
   "source": [
    "def create_plot(points_optimise,line_points,mask,distances):\n",
    "    plot = k3d.plot()\n",
    "\n",
    "    plot += k3d.points(points_optimise,point_size=0.03,color=(0 + 256*255))\n",
    "    plot += k3d.points(points_optimise[distances > 0.00125],point_size=0.03,color=(255))\n",
    "    for i in range(n_lines):\n",
    "        if mask is None or mask[i] == True: \n",
    "            plot += k3d.line([line_points[i,:3].numpy(), line_points[i,3:6].numpy()], shader='mesh', width=.003, color=0xff0000)\n",
    "    plot.display()"
   ]
  },
  {
   "cell_type": "code",
   "execution_count": 11,
   "metadata": {},
   "outputs": [],
   "source": [
    "n_lines = 10\n",
    "n_steps = 1000\n",
    "\n",
    "\n",
    "# maybe better initialisation, sample points from mesh \n",
    "# maybe should do Hough transform and then sample pairs of points and check for clusters (which correspond to lines)\n",
    "# start = torch.rand((n_lines,6)) - 0.5\n",
    "\n",
    "# points_optimise = torch.Tensor([[0,0,0],[1,1,1],[0,0.2,0.4],[0,0.23,0.4]])\n",
    "points_optimise = torch.from_numpy(sample_points.numpy()[labels])\n",
    "\n",
    "start_ids = torch.randint(low=0,high=points_optimise.shape[0],size=(n_lines,2))\n",
    "# print(start_ids)\n",
    "# print(start_ids.shape)\n",
    "start = points_optimise[start_ids]\n",
    "start[:,0,:] = torch.rand((start.shape[0],3)) - 0.5\n",
    "start = start.view(-1,6)\n",
    "\n",
    "# print(start)\n",
    "# print(start_ids)"
   ]
  },
  {
   "cell_type": "code",
   "execution_count": 17,
   "metadata": {},
   "outputs": [
    {
     "name": "stdout",
     "output_type": "stream",
     "text": [
      "torch.Size([7535, 3])\n"
     ]
    },
    {
     "name": "stderr",
     "output_type": "stream",
     "text": [
      "  0%|          | 0/1000 [00:00<?, ?it/s]"
     ]
    },
    {
     "name": "stdout",
     "output_type": "stream",
     "text": [
      "dists  tensor([0.0020, 0.0114, 0.0005,  ..., 0.0158, 0.0014, 0.0878],\n",
      "       grad_fn=<SliceBackward0>)\n"
     ]
    },
    {
     "data": {
      "application/vnd.jupyter.widget-view+json": {
       "model_id": "f92a70a408d844cd98f9d5cbcbab9522",
       "version_major": 2,
       "version_minor": 0
      },
      "text/plain": [
       "Output()"
      ]
     },
     "metadata": {},
     "output_type": "display_data"
    },
    {
     "name": "stdout",
     "output_type": "stream",
     "text": [
      "tensor(10)\n"
     ]
    },
    {
     "name": "stderr",
     "output_type": "stream",
     "text": [
      "  2%|▏         | 20/1000 [01:32<1:16:12,  4.67s/it]"
     ]
    },
    {
     "name": "stdout",
     "output_type": "stream",
     "text": [
      "dists  tensor([0.0001, 0.0023, 0.0009,  ..., 0.0112, 0.0012, 0.0110],\n",
      "       grad_fn=<SliceBackward0>)\n"
     ]
    },
    {
     "data": {
      "application/vnd.jupyter.widget-view+json": {
       "model_id": "498f41fb189f4719bbcb700e755426d4",
       "version_major": 2,
       "version_minor": 0
      },
      "text/plain": [
       "Output()"
      ]
     },
     "metadata": {},
     "output_type": "display_data"
    },
    {
     "name": "stdout",
     "output_type": "stream",
     "text": [
      "tensor(7)\n"
     ]
    },
    {
     "name": "stderr",
     "output_type": "stream",
     "text": [
      "  4%|▍         | 40/1000 [02:50<57:06,  3.57s/it]  "
     ]
    },
    {
     "name": "stdout",
     "output_type": "stream",
     "text": [
      "dists  tensor([0.0005, 0.0008, 0.0005,  ..., 0.0100, 0.0003, 0.0094],\n",
      "       grad_fn=<SliceBackward0>)\n"
     ]
    },
    {
     "data": {
      "application/vnd.jupyter.widget-view+json": {
       "model_id": "af06419e293240bc9729fd2d0d5659cc",
       "version_major": 2,
       "version_minor": 0
      },
      "text/plain": [
       "Output()"
      ]
     },
     "metadata": {},
     "output_type": "display_data"
    },
    {
     "name": "stdout",
     "output_type": "stream",
     "text": [
      "tensor(7)\n"
     ]
    },
    {
     "name": "stderr",
     "output_type": "stream",
     "text": [
      "  6%|▌         | 60/1000 [04:03<1:02:37,  4.00s/it]"
     ]
    },
    {
     "name": "stdout",
     "output_type": "stream",
     "text": [
      "dists  tensor([8.1810e-04, 4.4838e-04, 6.8183e-04,  ..., 4.8650e-03, 9.9161e-05,\n",
      "        1.2143e-02], grad_fn=<SliceBackward0>)\n"
     ]
    },
    {
     "data": {
      "application/vnd.jupyter.widget-view+json": {
       "model_id": "7db22c0202374fb4b93354921fc0603c",
       "version_major": 2,
       "version_minor": 0
      },
      "text/plain": [
       "Output()"
      ]
     },
     "metadata": {},
     "output_type": "display_data"
    },
    {
     "name": "stdout",
     "output_type": "stream",
     "text": [
      "tensor(7)\n"
     ]
    },
    {
     "name": "stderr",
     "output_type": "stream",
     "text": [
      "  8%|▊         | 80/1000 [05:24<1:01:19,  4.00s/it]"
     ]
    },
    {
     "name": "stdout",
     "output_type": "stream",
     "text": [
      "dists  tensor([0.0005, 0.0004, 0.0008,  ..., 0.0051, 0.0002, 0.0027],\n",
      "       grad_fn=<SliceBackward0>)\n"
     ]
    },
    {
     "data": {
      "application/vnd.jupyter.widget-view+json": {
       "model_id": "814e11da28c741f7bf76e9376bba6e58",
       "version_major": 2,
       "version_minor": 0
      },
      "text/plain": [
       "Output()"
      ]
     },
     "metadata": {},
     "output_type": "display_data"
    },
    {
     "name": "stdout",
     "output_type": "stream",
     "text": [
      "tensor(7)\n"
     ]
    },
    {
     "name": "stderr",
     "output_type": "stream",
     "text": [
      " 10%|█         | 100/1000 [06:45<58:59,  3.93s/it] "
     ]
    },
    {
     "name": "stdout",
     "output_type": "stream",
     "text": [
      "dists  tensor([0.0005, 0.0005, 0.0007,  ..., 0.0051, 0.0002, 0.0060],\n",
      "       grad_fn=<SliceBackward0>)\n"
     ]
    },
    {
     "data": {
      "application/vnd.jupyter.widget-view+json": {
       "model_id": "3be3d980eecd4d95b9c2e9ae08cb0df1",
       "version_major": 2,
       "version_minor": 0
      },
      "text/plain": [
       "Output()"
      ]
     },
     "metadata": {},
     "output_type": "display_data"
    },
    {
     "name": "stdout",
     "output_type": "stream",
     "text": [
      "tensor(7)\n"
     ]
    },
    {
     "name": "stderr",
     "output_type": "stream",
     "text": [
      " 12%|█▏        | 120/1000 [08:01<56:40,  3.86s/it]  "
     ]
    },
    {
     "name": "stdout",
     "output_type": "stream",
     "text": [
      "dists  tensor([0.0005, 0.0005, 0.0007,  ..., 0.0050, 0.0002, 0.0043],\n",
      "       grad_fn=<SliceBackward0>)\n"
     ]
    },
    {
     "data": {
      "application/vnd.jupyter.widget-view+json": {
       "model_id": "b8c60ad6f1c14ccc93eb3abcff704434",
       "version_major": 2,
       "version_minor": 0
      },
      "text/plain": [
       "Output()"
      ]
     },
     "metadata": {},
     "output_type": "display_data"
    },
    {
     "name": "stdout",
     "output_type": "stream",
     "text": [
      "tensor(7)\n"
     ]
    },
    {
     "name": "stderr",
     "output_type": "stream",
     "text": [
      " 14%|█▍        | 140/1000 [09:16<53:37,  3.74s/it]  "
     ]
    },
    {
     "name": "stdout",
     "output_type": "stream",
     "text": [
      "dists  tensor([0.0005, 0.0005, 0.0007,  ..., 0.0051, 0.0002, 0.0048],\n",
      "       grad_fn=<SliceBackward0>)\n"
     ]
    },
    {
     "data": {
      "application/vnd.jupyter.widget-view+json": {
       "model_id": "c01457c694364afc81963afebfc4dda7",
       "version_major": 2,
       "version_minor": 0
      },
      "text/plain": [
       "Output()"
      ]
     },
     "metadata": {},
     "output_type": "display_data"
    },
    {
     "name": "stdout",
     "output_type": "stream",
     "text": [
      "tensor(7)\n"
     ]
    },
    {
     "name": "stderr",
     "output_type": "stream",
     "text": [
      " 16%|█▌        | 160/1000 [10:40<1:00:01,  4.29s/it]"
     ]
    },
    {
     "name": "stdout",
     "output_type": "stream",
     "text": [
      "dists  tensor([0.0004, 0.0005, 0.0007,  ..., 0.0051, 0.0002, 0.0046],\n",
      "       grad_fn=<SliceBackward0>)\n"
     ]
    },
    {
     "data": {
      "application/vnd.jupyter.widget-view+json": {
       "model_id": "91f81d275b7e4bdebc545ff40fb45481",
       "version_major": 2,
       "version_minor": 0
      },
      "text/plain": [
       "Output()"
      ]
     },
     "metadata": {},
     "output_type": "display_data"
    },
    {
     "name": "stdout",
     "output_type": "stream",
     "text": [
      "tensor(7)\n"
     ]
    },
    {
     "name": "stderr",
     "output_type": "stream",
     "text": [
      " 18%|█▊        | 180/1000 [12:07<58:56,  4.31s/it]  "
     ]
    },
    {
     "name": "stdout",
     "output_type": "stream",
     "text": [
      "dists  tensor([0.0005, 0.0005, 0.0007,  ..., 0.0051, 0.0002, 0.0047],\n",
      "       grad_fn=<SliceBackward0>)\n"
     ]
    },
    {
     "data": {
      "application/vnd.jupyter.widget-view+json": {
       "model_id": "4d5315291f2c411d85caa4540000e7b0",
       "version_major": 2,
       "version_minor": 0
      },
      "text/plain": [
       "Output()"
      ]
     },
     "metadata": {},
     "output_type": "display_data"
    },
    {
     "name": "stdout",
     "output_type": "stream",
     "text": [
      "tensor(7)\n"
     ]
    },
    {
     "name": "stderr",
     "output_type": "stream",
     "text": [
      " 20%|██        | 200/1000 [13:28<55:07,  4.13s/it]"
     ]
    },
    {
     "name": "stdout",
     "output_type": "stream",
     "text": [
      "dists  tensor([0.0007, 0.0005, 0.0007,  ..., 0.0049, 0.0003, 0.0046],\n",
      "       grad_fn=<SliceBackward0>)\n"
     ]
    },
    {
     "data": {
      "application/vnd.jupyter.widget-view+json": {
       "model_id": "2b66fa6fda4449ae86fae96bd5444383",
       "version_major": 2,
       "version_minor": 0
      },
      "text/plain": [
       "Output()"
      ]
     },
     "metadata": {},
     "output_type": "display_data"
    },
    {
     "name": "stdout",
     "output_type": "stream",
     "text": [
      "tensor(7)\n"
     ]
    },
    {
     "name": "stderr",
     "output_type": "stream",
     "text": [
      " 22%|██▏       | 220/1000 [14:52<53:20,  4.10s/it]"
     ]
    },
    {
     "name": "stdout",
     "output_type": "stream",
     "text": [
      "dists  tensor([0.0006, 0.0005, 0.0007,  ..., 0.0051, 0.0002, 0.0046],\n",
      "       grad_fn=<SliceBackward0>)\n"
     ]
    },
    {
     "data": {
      "application/vnd.jupyter.widget-view+json": {
       "model_id": "fb49654728884671a3ed582be5df1b73",
       "version_major": 2,
       "version_minor": 0
      },
      "text/plain": [
       "Output()"
      ]
     },
     "metadata": {},
     "output_type": "display_data"
    },
    {
     "name": "stdout",
     "output_type": "stream",
     "text": [
      "tensor(7)\n"
     ]
    },
    {
     "name": "stderr",
     "output_type": "stream",
     "text": [
      " 24%|██▍       | 240/1000 [16:12<51:09,  4.04s/it]"
     ]
    },
    {
     "name": "stdout",
     "output_type": "stream",
     "text": [
      "dists  tensor([0.0006, 0.0005, 0.0007,  ..., 0.0050, 0.0002, 0.0046],\n",
      "       grad_fn=<SliceBackward0>)\n"
     ]
    },
    {
     "data": {
      "application/vnd.jupyter.widget-view+json": {
       "model_id": "b799593a768149a0991562a3bc554523",
       "version_major": 2,
       "version_minor": 0
      },
      "text/plain": [
       "Output()"
      ]
     },
     "metadata": {},
     "output_type": "display_data"
    },
    {
     "name": "stdout",
     "output_type": "stream",
     "text": [
      "tensor(7)\n"
     ]
    },
    {
     "name": "stderr",
     "output_type": "stream",
     "text": [
      " 26%|██▌       | 260/1000 [17:24<42:07,  3.42s/it]"
     ]
    },
    {
     "name": "stdout",
     "output_type": "stream",
     "text": [
      "dists  tensor([0.0005, 0.0005, 0.0007,  ..., 0.0052, 0.0002, 0.0047],\n",
      "       grad_fn=<SliceBackward0>)\n"
     ]
    },
    {
     "data": {
      "application/vnd.jupyter.widget-view+json": {
       "model_id": "f03d9e673ea04677884c102c8bb2a00d",
       "version_major": 2,
       "version_minor": 0
      },
      "text/plain": [
       "Output()"
      ]
     },
     "metadata": {},
     "output_type": "display_data"
    },
    {
     "name": "stdout",
     "output_type": "stream",
     "text": [
      "tensor(7)\n"
     ]
    },
    {
     "name": "stderr",
     "output_type": "stream",
     "text": [
      " 28%|██▊       | 280/1000 [18:04<19:24,  1.62s/it]"
     ]
    },
    {
     "name": "stdout",
     "output_type": "stream",
     "text": [
      "dists  tensor([0.0004, 0.0005, 0.0007,  ..., 0.0050, 0.0001, 0.0046],\n",
      "       grad_fn=<SliceBackward0>)\n"
     ]
    },
    {
     "data": {
      "application/vnd.jupyter.widget-view+json": {
       "model_id": "7af95bac01ff46d2a201e1de5ff7e41e",
       "version_major": 2,
       "version_minor": 0
      },
      "text/plain": [
       "Output()"
      ]
     },
     "metadata": {},
     "output_type": "display_data"
    },
    {
     "name": "stdout",
     "output_type": "stream",
     "text": [
      "tensor(7)\n"
     ]
    },
    {
     "name": "stderr",
     "output_type": "stream",
     "text": [
      " 30%|███       | 300/1000 [18:42<25:45,  2.21s/it]"
     ]
    },
    {
     "name": "stdout",
     "output_type": "stream",
     "text": [
      "dists  tensor([0.0005, 0.0005, 0.0007,  ..., 0.0051, 0.0002, 0.0046],\n",
      "       grad_fn=<SliceBackward0>)\n"
     ]
    },
    {
     "data": {
      "application/vnd.jupyter.widget-view+json": {
       "model_id": "2b36845b22f248d6a3410d7e0aee52ca",
       "version_major": 2,
       "version_minor": 0
      },
      "text/plain": [
       "Output()"
      ]
     },
     "metadata": {},
     "output_type": "display_data"
    },
    {
     "name": "stdout",
     "output_type": "stream",
     "text": [
      "tensor(7)\n"
     ]
    },
    {
     "name": "stderr",
     "output_type": "stream",
     "text": [
      " 32%|███▏      | 320/1000 [19:22<10:40,  1.06it/s]"
     ]
    },
    {
     "name": "stdout",
     "output_type": "stream",
     "text": [
      "dists  tensor([0.0006, 0.0005, 0.0007,  ..., 0.0051, 0.0002, 0.0046],\n",
      "       grad_fn=<SliceBackward0>)\n"
     ]
    },
    {
     "data": {
      "application/vnd.jupyter.widget-view+json": {
       "model_id": "44eeaa1ddc544b778d55a45a12ae2d76",
       "version_major": 2,
       "version_minor": 0
      },
      "text/plain": [
       "Output()"
      ]
     },
     "metadata": {},
     "output_type": "display_data"
    },
    {
     "name": "stdout",
     "output_type": "stream",
     "text": [
      "tensor(7)\n"
     ]
    },
    {
     "name": "stderr",
     "output_type": "stream",
     "text": [
      " 33%|███▎      | 327/1000 [19:25<05:27,  2.06it/s]"
     ]
    }
   ],
   "source": [
    "# print(start.shape)\n",
    "line_points = start.clone()\n",
    "line_points.requires_grad = True\n",
    "# points_optimise = torch.Tensor([[0,0,0],[1,1,1],[0,0.2,0.4],[0,0.23,0.4]])\n",
    "\n",
    "# optimizer = torch.optim.SGD([line_points], lr=1e2,momentum=0.0,dampening=0, weight_decay=0, nesterov=False)\n",
    "optimizer = torch.optim.Adam([line_points], lr=1e-1)\n",
    "print(points_optimise.shape)\n",
    "for step in tqdm(range(n_steps)):\n",
    "        \n",
    "    optimizer.zero_grad()\n",
    "\n",
    "    distances,non_flat = dist_point_line(line_points,points_optimise)\n",
    "    # print('distances.shape',distances[:5])\n",
    "    # print('non_flat.shape',non_flat[:5])\n",
    "    # print('distances.tile(1,n_lines)',distances.tile(1,n_lines).shape)\n",
    "    mask = distances.unsqueeze(1).tile(1,n_lines) == non_flat\n",
    "    mask_all_points = mask.any(dim=0)\n",
    "    # print(mask)\n",
    "    # print(mask.shape)\n",
    "    # print(mask_all_points)\n",
    "\n",
    "    if (step ) % 20 == 0:\n",
    "        # print('line_points',line_points)\n",
    "        # print('points_optimise',points_optimise[:3])\n",
    "        # print('non flat',non_flat[:6])\n",
    "        print('dists ',distances[:])\n",
    "        # print('loss',loss)\n",
    "        create_plot(points_optimise,line_points.detach(),mask_all_points,distances)\n",
    "        print(torch.sum(mask_all_points))\n",
    "        # print(mask)\n",
    "        # print(mask_all_points.shape)\n",
    "        # print(mask_all_points)\n",
    "        pass\n",
    "    \n",
    "\n",
    "    loss = torch.mean(distances)\n",
    "    loss.backward()\n",
    "    optimizer.step()\n",
    "\n",
    "    # line_points = line_points.detach()\n",
    "\n",
    "    # for i in range(n_lines):\n",
    "    #     if not mask_all_points[i]:\n",
    "    #         line_points[i] = torch.rand((6)) - 0.5\n",
    "        \n",
    "    # line_points.requires_grad = True\n",
    "\n",
    "# create_plot(points_optimise,line_points.detach(),None)\n",
    "create_plot(points_optimise,line_points.detach(),mask_all_points)\n",
    "\n"
   ]
  },
  {
   "cell_type": "code",
   "execution_count": null,
   "metadata": {},
   "outputs": [],
   "source": []
  },
  {
   "cell_type": "code",
   "execution_count": null,
   "metadata": {},
   "outputs": [],
   "source": []
  }
 ],
 "metadata": {
  "interpreter": {
   "hash": "3a1cf30f84ca77ef33d954ae0226634b0ccbaac8180d9ab13db319006197e49e"
  },
  "kernelspec": {
   "display_name": "Python 3.6.9 64-bit ('shape_env_octo': venv)",
   "language": "python",
   "name": "python3"
  },
  "language_info": {
   "codemirror_mode": {
    "name": "ipython",
    "version": 3
   },
   "file_extension": ".py",
   "mimetype": "text/x-python",
   "name": "python",
   "nbconvert_exporter": "python",
   "pygments_lexer": "ipython3",
   "version": "3.6.9"
  },
  "orig_nbformat": 4
 },
 "nbformat": 4,
 "nbformat_minor": 2
}
