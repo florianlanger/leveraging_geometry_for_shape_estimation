{
 "cells": [
  {
   "cell_type": "code",
   "execution_count": 146,
   "metadata": {},
   "outputs": [],
   "source": [
    "import os\n",
    "import numpy as np\n",
    "import sys\n",
    "import socket\n",
    "import pickle\n",
    "import math\n",
    "import os\n",
    "import json\n",
    "from tqdm import tqdm\n",
    "import torch\n",
    "import k3d\n",
    "\n",
    "from pytorch3d.io import load_obj,save_ply\n",
    "from pytorch3d.ops import sample_points_from_meshes,knn_points, sample_farthest_points\n",
    "from pytorch3d.structures import Pointclouds,Meshes"
   ]
  },
  {
   "cell_type": "code",
   "execution_count": 147,
   "metadata": {},
   "outputs": [],
   "source": [
    "pix_path = '/scratch/fml35/datasets/pix3d_new/'\n",
    "with open(\"/data/cornucopia/fml35/experiments/exp_024_debug/models/model_list.json\",'r') as f:\n",
    "        model_list = json.load(f)[\"models\"]\n",
    "\n",
    "# for j in tqdm(range(0,1)):#len(model_list))):\n",
    "j = 40\n",
    "path = pix_path + model_list[j][\"model\"]"
   ]
  },
  {
   "cell_type": "code",
   "execution_count": 148,
   "metadata": {},
   "outputs": [],
   "source": [
    "verts_torch,faces_torch,_ = load_obj(path,load_textures=False)\n",
    "\n",
    "verts = verts_torch.numpy()\n",
    "faces = faces_torch[0].numpy()"
   ]
  },
  {
   "cell_type": "code",
   "execution_count": 149,
   "metadata": {},
   "outputs": [],
   "source": [
    "n_points = 50000\n",
    "n_nn = 5\n",
    "angle_threshold_degree = 35\n",
    "\n",
    "\n",
    "mesh = Meshes(verts=[verts_torch],faces=[faces_torch[0]])\n",
    "sample_points,sample_normals = sample_points_from_meshes(mesh,n_points,return_normals=True)\n",
    "sample_points = sample_points.squeeze()\n",
    "sample_normals = sample_normals.squeeze()"
   ]
  },
  {
   "cell_type": "code",
   "execution_count": 150,
   "metadata": {},
   "outputs": [
    {
     "name": "stderr",
     "output_type": "stream",
     "text": [
      "100%|██████████| 50000/50000 [00:00<00:00, 61042.15it/s]"
     ]
    },
    {
     "name": "stdout",
     "output_type": "stream",
     "text": [
      "torch.Size([50000])\n"
     ]
    },
    {
     "name": "stderr",
     "output_type": "stream",
     "text": [
      "\n"
     ]
    }
   ],
   "source": [
    "\n",
    "# find distance between two pointclouds\n",
    "# For each predicted point, find its neareast-neighbor GT point\n",
    "knn_pred = knn_points(sample_points.unsqueeze(0),sample_points.unsqueeze(0), K=n_nn)\n",
    "\n",
    "sample_normals_unsq = sample_normals.unsqueeze(1)\n",
    "sample_normals_tiled = sample_normals_unsq.tile(1,n_nn,1)\n",
    "\n",
    "nn_normals = torch.zeros(n_points,n_nn,3)\n",
    "for i in tqdm(range(n_points)):\n",
    "    n = sample_normals[knn_pred.idx[0,i]]\n",
    "    nn_normals[i] = n\n",
    "    \n",
    "normal_dot = torch.sum(sample_normals_tiled*nn_normals,dim=2)\n",
    "angles = torch.arccos(normal_dot) * 180 / np.pi\n",
    "angles = torch.min(angles,torch.abs(180. - angles))\n",
    "# TODO: think if better 180 or 360\n",
    "# angles = torch.min(angles,torch.abs(360. - angles))\n",
    "max_angles,_ = torch.max(angles,dim=1)\n",
    "labels = (max_angles > angle_threshold_degree)\n",
    "print(labels.shape)\n",
    "\n"
   ]
  },
  {
   "cell_type": "code",
   "execution_count": 151,
   "metadata": {},
   "outputs": [
    {
     "data": {
      "application/vnd.jupyter.widget-view+json": {
       "model_id": "f73a4848cce142f0901e55c0f16ce190",
       "version_major": 2,
       "version_minor": 0
      },
      "text/plain": [
       "Output()"
      ]
     },
     "metadata": {},
     "output_type": "display_data"
    }
   ],
   "source": [
    "\n",
    "plot = k3d.plot()\n",
    "\n",
    "# plot += k3d.points(sample_points.numpy()[~labels],point_size=0.01,color=(255))\n",
    "plot += k3d.points(sample_points[labels],point_size=0.005,color=(0 + 256*255))\n",
    "plot.display()"
   ]
  },
  {
   "cell_type": "code",
   "execution_count": 152,
   "metadata": {},
   "outputs": [
    {
     "data": {
      "application/vnd.jupyter.widget-view+json": {
       "model_id": "23cebfa9fbc64dd28271f9f875b99dd8",
       "version_major": 2,
       "version_minor": 0
      },
      "text/plain": [
       "Output()"
      ]
     },
     "metadata": {},
     "output_type": "display_data"
    }
   ],
   "source": [
    "\n",
    "plot = k3d.plot()\n",
    "\n",
    "points,_ = sample_farthest_points(sample_points[labels].unsqueeze(0),K = 1000)\n",
    "# plot += k3d.points(sample_points.numpy()[~labels],point_size=0.01,color=(255))\n",
    "plot += k3d.points(points.squeeze(),point_size=0.005,color=(0 + 256*255))\n",
    "plot.display()"
   ]
  },
  {
   "cell_type": "code",
   "execution_count": 153,
   "metadata": {},
   "outputs": [],
   "source": [
    "def dist_point_line(lp,p):\n",
    "    # lp: N_lines x 2 (x1,y1,x2,y2) and p: N_points x 2\n",
    "    N_l = lp.shape[0]\n",
    "    N_p = p.shape[0]\n",
    "\n",
    "    x1 = lp[:,0].repeat(N_p)\n",
    "    y1 = lp[:,1].repeat(N_p)\n",
    "    z1 = lp[:,2].repeat(N_p)\n",
    "    x2 = lp[:,3].repeat(N_p)\n",
    "    y2 = lp[:,4].repeat(N_p)\n",
    "    z2 = lp[:,5].repeat(N_p)\n",
    "    x0 = p[:,0].repeat_interleave(N_l)\n",
    "    y0 = p[:,1].repeat_interleave(N_l)\n",
    "    z0 = p[:,2].repeat_interleave(N_l)\n",
    "\n",
    "\n",
    "    px = x2-x1\n",
    "    py = y2-y1\n",
    "    pz = z2-z1\n",
    "\n",
    "    norm = px*px + py*py + pz*pz\n",
    "\n",
    "    # print('norm',norm)\n",
    "\n",
    "    u =  ((x0 - x1) * px + (y0 - y1) * py + (z0 - z1) * pz) / norm\n",
    "\n",
    "    u = torch.clip(u,min=0,max=1)\n",
    "\n",
    "    # print('u',u)\n",
    "\n",
    "    x = x1 + u * px\n",
    "    y = y1 + u * py\n",
    "    z = z1 + u * pz\n",
    "\n",
    "    dx = x - x0\n",
    "    dy = y - y0\n",
    "    dz = z - z0\n",
    "\n",
    "\n",
    "\n",
    "    dist_non_flattened = (dx*dx + dy*dy + dz*dz)#**.5\n",
    "\n",
    "    # print('dist_non_flatten',dist_non_flattened)\n",
    "    # dist = torch.abs(dx) + torch.abs(dy) + torch.abs(dz)\n",
    "\n",
    "    # dist = torch.abs((x2 - x1) * (y1 - y0) - (x1 - x0) * (y2 - y1)) / torch.sqrt((x2-x1)**2 + (y2 -y1)**2)\n",
    "    dist_non_flattened = dist_non_flattened.reshape(N_p,N_l)\n",
    "    dist,_ = torch.min(dist_non_flattened,dim=1)\n",
    "\n",
    "    return dist,dist_non_flattened"
   ]
  },
  {
   "cell_type": "code",
   "execution_count": 154,
   "metadata": {},
   "outputs": [
    {
     "name": "stdout",
     "output_type": "stream",
     "text": [
      "(tensor([0.0000, 0.0900, 0.2500, 1.2500]), tensor([[0.0000, 1.0000],\n",
      "        [0.4900, 0.0900],\n",
      "        [0.2500, 0.2500],\n",
      "        [1.2500, 1.2500]]))\n"
     ]
    }
   ],
   "source": [
    "lp = torch.Tensor([[0,0,0,0,1,0],[1,0,0,1,1,0]])\n",
    "p = torch.Tensor([[0,0,0],[0.7,0.5,0],[0.5,1,0],[0.5,2,0]])\n",
    "print(dist_point_line(lp,p))"
   ]
  },
  {
   "cell_type": "code",
   "execution_count": 155,
   "metadata": {},
   "outputs": [],
   "source": [
    "def create_plot(points_optimise,line_points,mask,distances):\n",
    "    plot = k3d.plot()\n",
    "\n",
    "    plot += k3d.points(points_optimise,point_size=0.03,color=(0 + 256*255))\n",
    "    plot += k3d.points(points_optimise[distances > 0.00125],point_size=0.03,color=(255))\n",
    "    for i in range(n_lines):\n",
    "        if mask is None or mask[i] == True: \n",
    "            plot += k3d.line([line_points[i,:3].numpy(), line_points[i,3:6].numpy()], shader='mesh', width=.003, color=0xff0000)\n",
    "    plot.display()"
   ]
  },
  {
   "cell_type": "code",
   "execution_count": 156,
   "metadata": {},
   "outputs": [],
   "source": [
    "def sample_points_from_lines(lines,points_per_line):\n",
    "    n_lines = lines.shape[0]\n",
    "    lines = torch.repeat_interleave(lines,points_per_line,dim=0)\n",
    "    interval = torch.linspace(0,1,points_per_line).repeat(n_lines)\n",
    "    interval = interval.unsqueeze(1).repeat(1,3)\n",
    "    points = lines[:,:3] + (lines[:,3:6] - lines[:,:3]) * interval\n",
    "    return points"
   ]
  },
  {
   "cell_type": "code",
   "execution_count": 157,
   "metadata": {},
   "outputs": [
    {
     "name": "stdout",
     "output_type": "stream",
     "text": [
      "torch.Size([1000, 3])\n",
      "N support tensor(117)\n",
      "tensor([ 0.1723,  0.0211,  0.1357, -0.1918,  0.0125, -0.1530])\n",
      "torch.Size([883, 3])\n",
      "N support tensor(99)\n",
      "tensor([ 0.2007,  0.0017, -0.1466,  0.2433, -0.3843, -0.1921])\n",
      "torch.Size([784, 3])\n",
      "N support tensor(65)\n",
      "tensor([ 0.2504, -0.3682,  0.1831,  0.1513,  0.1267,  0.1587])\n",
      "torch.Size([719, 3])\n",
      "N support tensor(120)\n",
      "tensor([-0.1980,  0.0074,  0.1515,  0.1647,  0.0233, -0.1277])\n",
      "torch.Size([599, 3])\n",
      "N support tensor(108)\n",
      "tensor([-0.2462, -0.3879,  0.1953, -0.1975,  0.1005,  0.1574])\n",
      "torch.Size([491, 3])\n",
      "N support tensor(52)\n",
      "tensor([ 0.2155, -0.1434,  0.1576,  0.1892,  0.3680,  0.1894])\n",
      "torch.Size([439, 3])\n",
      "N support tensor(25)\n",
      "tensor([ 0.1895,  0.0131, -0.1385, -0.1975,  0.0550,  0.1424])\n",
      "torch.Size([414, 3])\n",
      "N support tensor(29)\n",
      "tensor([ 0.2040,  0.0556,  0.1463,  0.1861,  0.0399, -0.1256])\n",
      "torch.Size([385, 3])\n",
      "N support tensor(34)\n",
      "tensor([ 0.1789,  0.3762,  0.1981, -0.1753,  0.3752,  0.1908])\n",
      "torch.Size([351, 3])\n",
      "N support tensor(26)\n",
      "tensor([-0.1967,  0.2301,  0.1712,  0.1445,  0.2396,  0.1803])\n",
      "torch.Size([325, 3])\n",
      "N support tensor(23)\n",
      "tensor([ 0.2029, -0.0304,  0.1482, -0.0180,  0.3348,  0.1897])\n",
      "torch.Size([302, 3])\n",
      "N support tensor(20)\n",
      "tensor([-0.2428, -0.3643, -0.2012, -0.0993,  0.3411,  0.1859])\n",
      "torch.Size([282, 3])\n",
      "N support tensor(16)\n",
      "tensor([-0.2350, -0.2685, -0.1917,  0.1235,  0.0487,  0.0980])\n",
      "torch.Size([266, 3])\n",
      "N support tensor(23)\n",
      "tensor([ 0.1449,  0.2040,  0.1756, -0.1942,  0.1979,  0.1669])\n",
      "torch.Size([243, 3])\n",
      "N support tensor(19)\n",
      "tensor([-0.2099, -0.0327, -0.1715,  0.1195,  0.3463,  0.1945])\n",
      "torch.Size([224, 3])\n",
      "N support tensor(13)\n",
      "tensor([-0.1449,  0.3279,  0.1914,  0.2450, -0.3879,  0.1820])\n",
      "torch.Size([211, 3])\n",
      "N support tensor(61)\n",
      "tensor([-0.2038, -0.0034, -0.1635, -0.2375, -0.3858, -0.1930])\n",
      "torch.Size([150, 3])\n",
      "N support tensor(24)\n",
      "tensor([ 0.1487,  0.0379, -0.1560, -0.1268,  0.0331, -0.1663])\n",
      "torch.Size([126, 3])\n",
      "N support tensor(17)\n",
      "tensor([-0.1975,  0.1198,  0.1631, -0.1946,  0.3446,  0.1941])\n",
      "torch.Size([109, 3])\n",
      "N support tensor(25)\n",
      "tensor([-0.1958,  0.0408,  0.1211, -0.1782,  0.0467, -0.1301])\n",
      "torch.Size([84, 3])\n",
      "None\n",
      "torch.Size([84, 3])\n",
      "N support tensor(17)\n",
      "tensor([-0.1472,  0.1321,  0.1582,  0.1978,  0.1413,  0.1594])\n",
      "torch.Size([67, 3])\n",
      "N support tensor(10)\n",
      "tensor([ 0.1438,  0.3009,  0.1885, -0.1300,  0.3451,  0.1884])\n",
      "torch.Size([57, 3])\n",
      "None\n",
      "torch.Size([57, 3])\n",
      "N support tensor(10)\n",
      "tensor([ 0.0028,  0.0399,  0.0178, -0.1577,  0.0468, -0.1493])\n",
      "torch.Size([47, 3])\n",
      "None\n",
      "torch.Size([47, 3])\n",
      "N support tensor(16)\n",
      "tensor([ 0.2040,  0.1173,  0.1565, -0.1289,  0.0982,  0.1547])\n",
      "torch.Size([31, 3])\n",
      "None\n",
      "torch.Size([31, 3])\n",
      "None\n",
      "torch.Size([31, 3])\n",
      "None\n",
      "torch.Size([31, 3])\n",
      "None\n",
      "torch.Size([31, 3])\n",
      "None\n",
      "torch.Size([31, 3])\n",
      "None\n",
      "torch.Size([31, 3])\n",
      "None\n",
      "torch.Size([31, 3])\n",
      "None\n",
      "torch.Size([31, 3])\n",
      "None\n",
      "torch.Size([31, 3])\n",
      "None\n",
      "torch.Size([31, 3])\n",
      "None\n",
      "torch.Size([31, 3])\n",
      "None\n",
      "torch.Size([31, 3])\n",
      "None\n",
      "torch.Size([31, 3])\n",
      "None\n",
      "torch.Size([31, 3])\n",
      "None\n",
      "torch.Size([31, 3])\n",
      "None\n",
      "torch.Size([31, 3])\n",
      "None\n",
      "torch.Size([31, 3])\n",
      "None\n",
      "torch.Size([31, 3])\n",
      "None\n",
      "torch.Size([31, 3])\n",
      "None\n",
      "torch.Size([31, 3])\n",
      "None\n",
      "torch.Size([31, 3])\n",
      "None\n",
      "torch.Size([31, 3])\n",
      "None\n"
     ]
    },
    {
     "data": {
      "application/vnd.jupyter.widget-view+json": {
       "model_id": "8b58d30a69a04c71ae6ebec9d9c0c138",
       "version_major": 2,
       "version_minor": 0
      },
      "text/plain": [
       "Output()"
      ]
     },
     "metadata": {},
     "output_type": "display_data"
    },
    {
     "data": {
      "application/vnd.jupyter.widget-view+json": {
       "model_id": "97b5401761d443c8a3c1a8810250a392",
       "version_major": 2,
       "version_minor": 0
      },
      "text/plain": [
       "Output()"
      ]
     },
     "metadata": {},
     "output_type": "display_data"
    }
   ],
   "source": [
    "\n",
    "def find_line(points,dist_threshold_squared,min_n_support):\n",
    "    print(points.shape)\n",
    "    N = points.shape[0]\n",
    "\n",
    "    #\n",
    "    start_id = torch.randint(low=0,high=N,size=(1,))\n",
    "    lp1 = points[start_id].tile(N,1)\n",
    "    lp = torch.cat([lp1,points],dim=1)\n",
    "    distances,non_flat = dist_point_line(lp,points)\n",
    "    thresholded = non_flat < dist_threshold_squared\n",
    "    n_support = torch.sum(thresholded,dim=0)\n",
    "    best_index = torch.argmax(n_support)\n",
    "\n",
    "    # now repeat but\n",
    "    lp1 = points[best_index].tile(N,1)\n",
    "    lp = torch.cat([lp1,points],dim=1)\n",
    "    distances,non_flat = dist_point_line(lp,points)\n",
    "    thresholded_2 = non_flat < dist_threshold_squared\n",
    "    n_support = torch.sum(thresholded_2,dim=0)\n",
    "    sorted_support,indices = torch.sort(n_support,descending=True)\n",
    "\n",
    "    # print('sorted',sorted[:10])\n",
    "    # print('indices',indices[:10])\n",
    "\n",
    "    found = False\n",
    "    for i in range(N):\n",
    "        test_index = indices[i]\n",
    "        # print(test_index)\n",
    "        # IDEA: use double distance or triple to allow for better lines, ie. 2x threshold\n",
    "        if thresholded_2[start_id,test_index] == True and sorted_support[i] >= min_n_support:\n",
    "            print('N support',sorted_support[i])\n",
    "            found = True\n",
    "            break\n",
    "\n",
    "    if found == False:\n",
    "        return None,points\n",
    "        \n",
    "    else:\n",
    "        # print('best_index',best_index)\n",
    "        # print('test_index',test_index)\n",
    "        line = torch.cat([points[best_index],points[test_index]])\n",
    "        # print('line',line)\n",
    "        remaining_points = points[thresholded[:,best_index].nonzero()]\n",
    "        remaining_points_2 = points[(~thresholded_2[:,test_index]).nonzero()]\n",
    "\n",
    "        return line,remaining_points_2.squeeze()\n",
    "\n",
    "\n",
    "\n",
    "    plot = k3d.plot()\n",
    "\n",
    "    # plot += k3d.points(points,point_size=0.01,color=(0 + 256*255))\n",
    "    # start blue\n",
    "    plot += k3d.points(points[start_id],point_size=0.04,color=(255))\n",
    "    plot += k3d.points(line[:3],point_size=0.03,color=(0 + 256*256*255))\n",
    "    plot += k3d.points(line[3:6] + torch.Tensor([0.03,0,0]),point_size=0.03,color=(255 + 256*256*255))\n",
    "    # plot += k3d.points(points[best_index],point_size=0.03,color=(0 + 256*256*255))\n",
    "    # plot += k3d.points(points[test_index],point_size=0.03,color=(255 + 256*256*255))\n",
    "    # plot += k3d.points(points,point_size=0.01,color=(256*255 + 256*256*255))\n",
    "    # plot += k3d.points(remaining_points,point_size=0.01,color=(256*256*255))\n",
    "    plot += k3d.points(remaining_points_2,point_size=0.01,color=(255+ 256*256*255))\n",
    "    plot.display()\n",
    "\n",
    "\n",
    "dist_threshold_squared = 0.015**2\n",
    "min_n_support = 10\n",
    "n_lines = 50\n",
    "torch.manual_seed(5)\n",
    "\n",
    "# remaining_points = torch.from_numpy(sample_points.numpy()[labels])\n",
    "remaining_points = points.squeeze()\n",
    "\n",
    "\n",
    "lines = torch.zeros((n_lines,6))\n",
    "counter = 0\n",
    "for i in range(n_lines):\n",
    "    line,remaining_points = find_line(remaining_points,dist_threshold_squared,min_n_support)\n",
    "    if line != None:\n",
    "        lines[counter] = line\n",
    "        counter += 1\n",
    "\n",
    "\n",
    "plot = k3d.plot()\n",
    "plot += k3d.points(remaining_points,point_size=0.01,color=(255+ 256*256*255))\n",
    "plot.display()\n",
    "\n",
    "plot = k3d.plot()\n",
    "plot += k3d.points(sample_points_from_lines(lines,points_per_line=100),point_size=0.01,color=(255+ 256*256*255))\n",
    "plot.display()\n",
    "\n"
   ]
  },
  {
   "cell_type": "code",
   "execution_count": 158,
   "metadata": {},
   "outputs": [
    {
     "name": "stdout",
     "output_type": "stream",
     "text": [
      "torch.Size([5310, 3])\n"
     ]
    },
    {
     "name": "stderr",
     "output_type": "stream",
     "text": [
      "  0%|          | 0/1000 [00:00<?, ?it/s]\n"
     ]
    },
    {
     "ename": "RuntimeError",
     "evalue": "The size of tensor a (50) must match the size of tensor b (10) at non-singleton dimension 1",
     "output_type": "error",
     "traceback": [
      "\u001b[0;31m---------------------------------------------------------------------------\u001b[0m",
      "\u001b[0;31mRuntimeError\u001b[0m                              Traceback (most recent call last)",
      "\u001b[0;32m<ipython-input-158-8b711c16b0fd>\u001b[0m in \u001b[0;36m<module>\u001b[0;34m\u001b[0m\n\u001b[1;32m     15\u001b[0m     \u001b[0;31m# print('non_flat.shape',non_flat[:5])\u001b[0m\u001b[0;34m\u001b[0m\u001b[0;34m\u001b[0m\u001b[0;34m\u001b[0m\u001b[0m\n\u001b[1;32m     16\u001b[0m     \u001b[0;31m# print('distances.tile(1,n_lines)',distances.tile(1,n_lines).shape)\u001b[0m\u001b[0;34m\u001b[0m\u001b[0;34m\u001b[0m\u001b[0;34m\u001b[0m\u001b[0m\n\u001b[0;32m---> 17\u001b[0;31m     \u001b[0mmask\u001b[0m \u001b[0;34m=\u001b[0m \u001b[0mdistances\u001b[0m\u001b[0;34m.\u001b[0m\u001b[0munsqueeze\u001b[0m\u001b[0;34m(\u001b[0m\u001b[0;36m1\u001b[0m\u001b[0;34m)\u001b[0m\u001b[0;34m.\u001b[0m\u001b[0mtile\u001b[0m\u001b[0;34m(\u001b[0m\u001b[0;36m1\u001b[0m\u001b[0;34m,\u001b[0m\u001b[0mn_lines\u001b[0m\u001b[0;34m)\u001b[0m \u001b[0;34m==\u001b[0m \u001b[0mnon_flat\u001b[0m\u001b[0;34m\u001b[0m\u001b[0;34m\u001b[0m\u001b[0m\n\u001b[0m\u001b[1;32m     18\u001b[0m     \u001b[0mmask_all_points\u001b[0m \u001b[0;34m=\u001b[0m \u001b[0mmask\u001b[0m\u001b[0;34m.\u001b[0m\u001b[0many\u001b[0m\u001b[0;34m(\u001b[0m\u001b[0mdim\u001b[0m\u001b[0;34m=\u001b[0m\u001b[0;36m0\u001b[0m\u001b[0;34m)\u001b[0m\u001b[0;34m\u001b[0m\u001b[0;34m\u001b[0m\u001b[0m\n\u001b[1;32m     19\u001b[0m     \u001b[0;31m# print(mask)\u001b[0m\u001b[0;34m\u001b[0m\u001b[0;34m\u001b[0m\u001b[0;34m\u001b[0m\u001b[0m\n",
      "\u001b[0;31mRuntimeError\u001b[0m: The size of tensor a (50) must match the size of tensor b (10) at non-singleton dimension 1"
     ]
    }
   ],
   "source": [
    "# print(start.shape)\n",
    "line_points = start.clone()\n",
    "line_points.requires_grad = True\n",
    "# points_optimise = torch.Tensor([[0,0,0],[1,1,1],[0,0.2,0.4],[0,0.23,0.4]])\n",
    "\n",
    "# optimizer = torch.optim.SGD([line_points], lr=1e2,momentum=0.0,dampening=0, weight_decay=0, nesterov=False)\n",
    "optimizer = torch.optim.Adam([line_points], lr=1e-1)\n",
    "print(points_optimise.shape)\n",
    "for step in tqdm(range(n_steps)):\n",
    "        \n",
    "    optimizer.zero_grad()\n",
    "\n",
    "    distances,non_flat = dist_point_line(line_points,points_optimise)\n",
    "    # print('distances.shape',distances[:5])\n",
    "    # print('non_flat.shape',non_flat[:5])\n",
    "    # print('distances.tile(1,n_lines)',distances.tile(1,n_lines).shape)\n",
    "    mask = distances.unsqueeze(1).tile(1,n_lines) == non_flat\n",
    "    mask_all_points = mask.any(dim=0)\n",
    "    # print(mask)\n",
    "    # print(mask.shape)\n",
    "    # print(mask_all_points)\n",
    "\n",
    "    if (step ) % 20 == 0:\n",
    "        # print('line_points',line_points)\n",
    "        # print('points_optimise',points_optimise[:3])\n",
    "        # print('non flat',non_flat[:6])\n",
    "        print('dists ',distances[:])\n",
    "        # print('loss',loss)\n",
    "        create_plot(points_optimise,line_points.detach(),mask_all_points,distances)\n",
    "        print(torch.sum(mask_all_points))\n",
    "        # print(mask)\n",
    "        # print(mask_all_points.shape)\n",
    "        # print(mask_all_points)\n",
    "        pass\n",
    "    \n",
    "\n",
    "    loss = torch.mean(distances)\n",
    "    loss.backward()\n",
    "    optimizer.step()\n",
    "\n",
    "    # line_points = line_points.detach()\n",
    "\n",
    "    # for i in range(n_lines):\n",
    "    #     if not mask_all_points[i]:\n",
    "    #         line_points[i] = torch.rand((6)) - 0.5\n",
    "        \n",
    "    # line_points.requires_grad = True\n",
    "\n",
    "# create_plot(points_optimise,line_points.detach(),None)\n",
    "create_plot(points_optimise,line_points.detach(),mask_all_points)\n",
    "\n"
   ]
  },
  {
   "cell_type": "code",
   "execution_count": null,
   "metadata": {},
   "outputs": [],
   "source": []
  },
  {
   "cell_type": "code",
   "execution_count": null,
   "metadata": {},
   "outputs": [],
   "source": []
  }
 ],
 "metadata": {
  "interpreter": {
   "hash": "3a1cf30f84ca77ef33d954ae0226634b0ccbaac8180d9ab13db319006197e49e"
  },
  "kernelspec": {
   "display_name": "Python 3.6.9 64-bit ('shape_env_octo': venv)",
   "language": "python",
   "name": "python3"
  },
  "language_info": {
   "codemirror_mode": {
    "name": "ipython",
    "version": 3
   },
   "file_extension": ".py",
   "mimetype": "text/x-python",
   "name": "python",
   "nbconvert_exporter": "python",
   "pygments_lexer": "ipython3",
   "version": "3.6.9"
  },
  "orig_nbformat": 4
 },
 "nbformat": 4,
 "nbformat_minor": 2
}
