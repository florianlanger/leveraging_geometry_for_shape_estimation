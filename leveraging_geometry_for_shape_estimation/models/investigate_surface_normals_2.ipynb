{
 "cells": [
  {
   "cell_type": "code",
   "execution_count": 5,
   "metadata": {},
   "outputs": [
    {
     "name": "stdout",
     "output_type": "stream",
     "text": [
      "[0.99110126 0.2095318  0.21132924]\n"
     ]
    }
   ],
   "source": [
    "import cv2\n",
    "import numpy as np\n",
    "from matplotlib import pyplot as plt\n",
    "path = '/scratches/octopus/fml35/experiments/exp_005_cubes/models/normals/model_000/elev_000_azim_0.0.exr'\n",
    "normals = cv2.imread(path,  cv2.IMREAD_ANYCOLOR | cv2.IMREAD_ANYDEPTH)\n",
    "print(normals[122,80])"
   ]
  },
  {
   "cell_type": "code",
   "execution_count": 6,
   "metadata": {},
   "outputs": [
    {
     "name": "stdout",
     "output_type": "stream",
     "text": [
      "[254 126 127]\n",
      "[ 0.99215686 -0.01176471 -0.00392157]\n"
     ]
    },
    {
     "data": {
      "image/png": "[encoded data removed]",
      "text/plain": [
       "<Figure size 432x288 with 1 Axes>"
      ]
     },
     "metadata": {
      "needs_background": "light"
     },
     "output_type": "display_data"
    }
   ],
   "source": [
    "path = '/scratches/octopus/fml35/experiments/exp_005_cubes/models/normals/model_000/elev_000_azim_0.0.png'\n",
    "\n",
    "normals = cv2.imread(path,  cv2.IMREAD_ANYCOLOR | cv2.IMREAD_ANYDEPTH)\n",
    "print(normals[122,80])\n",
    "print(((normals[122,80]/ 255 ) - 0.5) * 2)\n",
    "\n",
    "normals[122,80,:] = [0,255,0]\n",
    "plt.imshow(normals)\n",
    "plt.show()"
   ]
  },
  {
   "cell_type": "code",
   "execution_count": 17,
   "metadata": {},
   "outputs": [
    {
     "name": "stdout",
     "output_type": "stream",
     "text": [
      "(256, 256)\n",
      "(256, 256)\n",
      "(256, 256)\n",
      "[0.21132924 0.2095318  0.99110126]\n"
     ]
    },
    {
     "data": {
      "image/png": "[encoded data removed]",
      "text/plain": [
       "<Figure size 432x288 with 1 Axes>"
      ]
     },
     "metadata": {
      "needs_background": "light"
     },
     "output_type": "display_data"
    }
   ],
   "source": [
    "import OpenEXR, Imath, array\n",
    "pt = Imath.PixelType(Imath.PixelType.FLOAT)\n",
    "\n",
    "img = np.zeros((256,256,3))\n",
    "\n",
    "for i,channel in enumerate(['R','G','B']):\n",
    "    colorstr = OpenEXR.InputFile(\"/scratches/octopus/fml35/experiments/exp_005_cubes/models/normals/model_000/elev_000_azim_0.0.exr\").channel(channel, pt)\n",
    "    color = array.array('f', colorstr)\n",
    "    color_np = np.array(color).reshape(256,256)\n",
    "    \n",
    "    print(color_np.shape)\n",
    "    img[:,:,i] = color_np\n",
    "\n",
    "plt.imshow(img)\n",
    "print(img[122,80])"
   ]
  },
  {
   "cell_type": "code",
   "execution_count": 15,
   "metadata": {},
   "outputs": [
    {
     "name": "stdout",
     "output_type": "stream",
     "text": [
      "[0.99110126 0.2095318  0.21132924]\n",
      "1.0708454426867462\n"
     ]
    },
    {
     "data": {
      "image/png": "[encoded data removed]",
      "text/plain": [
       "<Figure size 432x288 with 1 Axes>"
      ]
     },
     "metadata": {
      "needs_background": "light"
     },
     "output_type": "display_data"
    }
   ],
   "source": [
    "path = '/scratches/octopus/fml35/experiments/exp_005_cubes/models/normals/model_000/elev_000_azim_0.0.exr'\n",
    "normals = cv2.imread(path,  cv2.IMREAD_ANYCOLOR | cv2.IMREAD_ANYDEPTH)\n",
    "print(normals[122,80])\n",
    "plt.imshow(normals)\n",
    "print(np.linalg.norm(normals[122,80])**2)"
   ]
  },
  {
   "cell_type": "code",
   "execution_count": 5,
   "metadata": {},
   "outputs": [
    {
     "name": "stdout",
     "output_type": "stream",
     "text": [
      "[237 127  63]\n",
      "[ 0.85882353 -0.00392157 -0.50588235]\n"
     ]
    }
   ],
   "source": [
    "path = '/scratches/octopus/fml35/experiments/exp_005_cubes/models/normals/model_000/elev_000_azim_22.5.png'\n",
    "normals = cv2.imread(path,  cv2.IMREAD_ANYCOLOR | cv2.IMREAD_ANYDEPTH)\n",
    "print(normals[122,80])\n",
    "print(((normals[122,80]/ 255 ) - 0.5) * 2)"
   ]
  },
  {
   "cell_type": "code",
   "execution_count": 6,
   "metadata": {},
   "outputs": [
    {
     "name": "stdout",
     "output_type": "stream",
     "text": [
      "[0.5790761  0.20946218 0.00841927]\n"
     ]
    }
   ],
   "source": [
    "path = '/scratches/octopus/fml35/experiments/exp_005_cubes/models/normals/model_000/elev_000_azim_45.0.exr'\n",
    "normals = cv2.imread(path,  cv2.IMREAD_ANYCOLOR | cv2.IMREAD_ANYDEPTH)\n",
    "print(normals[122,80])"
   ]
  },
  {
   "cell_type": "code",
   "execution_count": 7,
   "metadata": {},
   "outputs": [
    {
     "name": "stdout",
     "output_type": "stream",
     "text": [
      "[200 126  23]\n",
      "[ 0.56862745 -0.01176471 -0.81960784]\n"
     ]
    },
    {
     "data": {
      "text/plain": [
       "<matplotlib.image.AxesImage at 0x7fe825156a90>"
      ]
     },
     "execution_count": 7,
     "metadata": {},
     "output_type": "execute_result"
    },
    {
     "data": {
      "image/png": "[encoded data removed]",
      "text/plain": [
       "<Figure size 432x288 with 1 Axes>"
      ]
     },
     "metadata": {
      "needs_background": "light"
     },
     "output_type": "display_data"
    }
   ],
   "source": [
    "path = '/scratches/octopus/fml35/experiments/exp_005_cubes/models/normals/model_000/elev_000_azim_45.0.png'\n",
    "normals = cv2.imread(path)\n",
    "print(normals[122,80])\n",
    "print(((normals[122,80]/ 255 ) - 0.5) * 2)\n",
    "plt.imshow(normals)"
   ]
  },
  {
   "cell_type": "code",
   "execution_count": null,
   "metadata": {},
   "outputs": [],
   "source": []
  }
 ],
 "metadata": {
  "interpreter": {
   "hash": "2b32248b32cb18190abbd4f0a784a70338ce7d4765f38bc190763b9ee5f2d639"
  },
  "kernelspec": {
   "display_name": "Python 3.7.10 64-bit",
   "language": "python",
   "name": "python3"
  },
  "language_info": {
   "codemirror_mode": {
    "name": "ipython",
    "version": 3
   },
   "file_extension": ".py",
   "mimetype": "text/x-python",
   "name": "python",
   "nbconvert_exporter": "python",
   "pygments_lexer": "ipython3",
   "version": "3.7.10"
  },
  "orig_nbformat": 4
 },
 "nbformat": 4,
 "nbformat_minor": 2
}
