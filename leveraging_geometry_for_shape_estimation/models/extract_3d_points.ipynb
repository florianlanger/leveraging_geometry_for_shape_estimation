{
 "cells": [
  {
   "cell_type": "code",
   "execution_count": 1,
   "metadata": {},
   "outputs": [],
   "source": [
    "import os\n",
    "import torch\n",
    "import matplotlib.pyplot as plt\n",
    "from datetime import datetime\n",
    "import shutil\n",
    "from PIL import Image\n",
    "\n",
    "import numpy as np\n",
    "import pyopengv\n",
    "\n",
    "from scipy.spatial.transform import Rotation as rot\n",
    "\n",
    "from tqdm import tqdm\n",
    "\n",
    "# Util function for loading meshes\n",
    "from pytorch3d.io import load_objs_as_meshes, save_obj, load_obj, load_ply\n",
    "import pytorch3d\n",
    "\n",
    "# Data structures and functions for rendering\n",
    "from pytorch3d.structures import Meshes, Pointclouds\n",
    "\n",
    "# add path for demo utils functions \n",
    "import sys\n",
    "import os\n",
    "import k3d\n",
    "from PIL import Image"
   ]
  },
  {
   "cell_type": "code",
   "execution_count": 2,
   "metadata": {},
   "outputs": [],
   "source": [
    "\n",
    "wc_path = '/scratch/fml35/experiments/leveraging_geometry_for_shape/exp_071_test_detecting_boxes/wc_matches/bed_0121_0_000.npy'\n",
    "\n",
    "wc = np.load(wc_path)\n",
    "\n",
    "model_path = '/scratch/fml35/datasets/pix3d_new/model/bed/IKEA_BEDDINGE/model.obj'\n",
    "\n",
    "vertices_gt_scaled,faces_gt_scaled,_ = load_obj(model_path,create_texture_atlas=False, load_textures=False)\n"
   ]
  },
  {
   "cell_type": "code",
   "execution_count": 4,
   "metadata": {},
   "outputs": [
    {
     "data": {
      "application/vnd.jupyter.widget-view+json": {
       "model_id": "d6e5c5cd674946d5b4faaa94edc9a14f",
       "version_major": 2,
       "version_minor": 0
      },
      "text/plain": [
       "Output()"
      ]
     },
     "metadata": {},
     "output_type": "display_data"
    }
   ],
   "source": [
    "plot = k3d.plot()\n",
    "plot += k3d.mesh(vertices_gt_scaled,faces_gt_scaled[0],color=(64 + 128 * 256))\n",
    "plot += k3d.points(wc,color=(0 + 255 * 256),point_size=0.02)\n",
    "\n",
    "plot.display()\n"
   ]
  },
  {
   "cell_type": "code",
   "execution_count": null,
   "metadata": {},
   "outputs": [],
   "source": []
  }
 ],
 "metadata": {
  "interpreter": {
   "hash": "3a1cf30f84ca77ef33d954ae0226634b0ccbaac8180d9ab13db319006197e49e"
  },
  "kernelspec": {
   "display_name": "Python 3.6.9 64-bit ('shape_env_octo': venv)",
   "language": "python",
   "name": "python3"
  },
  "language_info": {
   "codemirror_mode": {
    "name": "ipython",
    "version": 3
   },
   "file_extension": ".py",
   "mimetype": "text/x-python",
   "name": "python",
   "nbconvert_exporter": "python",
   "pygments_lexer": "ipython3",
   "version": "3.6.9"
  },
  "orig_nbformat": 4
 },
 "nbformat": 4,
 "nbformat_minor": 2
}
