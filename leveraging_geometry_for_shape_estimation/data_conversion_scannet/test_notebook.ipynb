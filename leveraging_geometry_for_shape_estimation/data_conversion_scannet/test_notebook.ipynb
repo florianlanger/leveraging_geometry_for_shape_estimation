{
 "cells": [
  {
   "cell_type": "code",
   "execution_count": null,
   "metadata": {},
   "outputs": [],
   "source": [
    "print('Hello')"
   ]
  }
 ],
 "metadata": {
  "interpreter": {
   "hash": "3a1cf30f84ca77ef33d954ae0226634b0ccbaac8180d9ab13db319006197e49e"
  },
  "kernelspec": {
   "display_name": "Python 3.6.9 ('shape_env_octo')",
   "language": "python",
   "name": "python3"
  },
  "language_info": {
   "name": "python",
   "version": "3.6.9"
  },
  "orig_nbformat": 4
 },
 "nbformat": 4,
 "nbformat_minor": 2
}
