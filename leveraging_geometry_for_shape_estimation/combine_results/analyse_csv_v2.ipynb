{
 "cells": [
  {
   "cell_type": "code",
   "execution_count": 22,
   "metadata": {},
   "outputs": [],
   "source": [
    "import pandas as pd\n",
    "\n",
    "df = pd.read_csv('/scratch2/fml35/experiments/leveraging_geometry_for_shape/exp_186_roca_retrieval_gt_z_lines_octopus/global_stats/merge_v3_exp_186_roca_retrieval_gt_z_lines_octopus_exp_178_gt_retrieval_matches_gt_z_exp_156_roca_all_vis.csv')\n",
    "\n"
   ]
  },
  {
   "cell_type": "code",
   "execution_count": 23,
   "metadata": {},
   "outputs": [],
   "source": [
    "def str2bool(v):\n",
    "  return v.lower() in (\"true\")"
   ]
  },
  {
   "cell_type": "code",
   "execution_count": 29,
   "metadata": {},
   "outputs": [],
   "source": [
    "experiment = 'exp_186_roca_retrieval_gt_z_lines_octopus'\n",
    "# experiment = 'exp_156_roca_all_vis'\n",
    "\n",
    "cats_list = [\"bathtub\",\"bed\",\"bin\",\"bookshelf\",\"cabinet\",\"chair\",\"display\",\"sofa\",\"table\"]\n",
    "n_total_gt = [116,70,232,212,260,1093,191,113,553]\n",
    "\n",
    "cats = {}\n",
    "for i,cat in enumerate(cats_list):\n",
    "    cats[cat] = {\"correct_with_retrieval\":0,\"correct_without_retrieval\":0,\"total_gt\":n_total_gt[i],'total_predictions':0}\n",
    "\n",
    "\n",
    "\n",
    "for ind in df.index:\n",
    "    if df[experiment + '_used_for_evaluation'][ind] == True:\n",
    "        cat = df[experiment + \"_pred_category\"][ind]\n",
    "        # print(df[experiment + \"_overall_with_retrieval\"][ind])\n",
    "        cats[cat][\"correct_with_retrieval\"] += 1* str2bool(df[experiment + \"_overall_with_retrieval\"][ind])\n",
    "        cats[cat][\"correct_without_retrieval\"] += 1 *str2bool(df[experiment + \"_overall_without_retrieval\"][ind])\n",
    "        cats[cat][\"total_predictions\"] += 1"
   ]
  },
  {
   "cell_type": "code",
   "execution_count": 30,
   "metadata": {},
   "outputs": [
    {
     "name": "stdout",
     "output_type": "stream",
     "text": [
      "bathtub total  116 correct  17 accuracy  0.14655172413793102\n",
      "bed total  70 correct  7 accuracy  0.1\n",
      "bin total  232 correct  62 accuracy  0.2672413793103448\n",
      "bookshelf total  212 correct  18 accuracy  0.08490566037735849\n",
      "cabinet total  260 correct  31 accuracy  0.11923076923076924\n",
      "chair total  1093 correct  351 accuracy  0.3211344922232388\n",
      "display total  191 correct  43 accuracy  0.225130890052356\n",
      "sofa total  113 correct  16 accuracy  0.1415929203539823\n",
      "table total  553 correct  65 accuracy  0.11754068716094032\n"
     ]
    }
   ],
   "source": [
    "for cat in cats:\n",
    "    print(cat,'total ',cats[cat][\"total_gt\"],'correct ',cats[cat][\"correct_with_retrieval\"], 'accuracy ',float(cats[cat][\"correct_with_retrieval\"])/cats[cat][\"total_gt\"])\n",
    "\n",
    "# exp_186    0,0;11,429;27,586;16,509;10,385;12,626;21,466;19,469;20,253;15,525;15,739;\n",
    "# exp_156    20,833;10,0;26,724;8,491;11,923;32,113;22,513;14,159;11,754;17,612;21,73;"
   ]
  },
  {
   "cell_type": "code",
   "execution_count": 32,
   "metadata": {},
   "outputs": [
    {
     "name": "stdout",
     "output_type": "stream",
     "text": [
      "bathtub total  116 correct  18 accuracy  0.15517241379310345\n",
      "bed total  70 correct  7 accuracy  0.1\n",
      "bin total  232 correct  68 accuracy  0.29310344827586204\n",
      "bookshelf total  212 correct  30 accuracy  0.14150943396226415\n",
      "cabinet total  260 correct  41 accuracy  0.1576923076923077\n",
      "chair total  1093 correct  448 accuracy  0.40988106129917656\n",
      "display total  191 correct  58 accuracy  0.3036649214659686\n",
      "sofa total  113 correct  18 accuracy  0.1592920353982301\n",
      "table total  553 correct  81 accuracy  0.14647377938517178\n"
     ]
    }
   ],
   "source": [
    "for cat in cats:\n",
    "    print(cat,'total ',cats[cat][\"total_gt\"],'correct ',cats[cat][\"correct_without_retrieval\"], 'accuracy ',float(cats[cat][\"correct_without_retrieval\"])/cats[cat][\"total_gt\"])\n",
    "# exp_186          0\t11,429\t29,741\t18,868\t13,462\t14,822\t29,319\t21,239\t24,412\t18,144\t18,627\n",
    "# exp_156    22,5;10,0;29,31;14,151;15,769;40,988;30,366;15,929;14,647;21,518;27,356"
   ]
  },
  {
   "cell_type": "code",
   "execution_count": 27,
   "metadata": {},
   "outputs": [
    {
     "ename": "SyntaxError",
     "evalue": "invalid syntax (2172809401.py, line 1)",
     "output_type": "error",
     "traceback": [
      "\u001b[0;36m  File \u001b[0;32m\"/tmp/ipykernel_28020/2172809401.py\"\u001b[0;36m, line \u001b[0;32m1\u001b[0m\n\u001b[0;31m    0\t11,429\t29,741\t18,868\t13,462\t14,822\t29,319\t21,239\t24,412\t18,144\t18,627\u001b[0m\n\u001b[0m     \t ^\u001b[0m\n\u001b[0;31mSyntaxError\u001b[0m\u001b[0;31m:\u001b[0m invalid syntax\n"
     ]
    }
   ],
   "source": []
  }
 ],
 "metadata": {
  "interpreter": {
   "hash": "3a1cf30f84ca77ef33d954ae0226634b0ccbaac8180d9ab13db319006197e49e"
  },
  "kernelspec": {
   "display_name": "Python 3.6.9 64-bit ('shape_env_octo': venv)",
   "language": "python",
   "name": "python3"
  },
  "language_info": {
   "codemirror_mode": {
    "name": "ipython",
    "version": 3
   },
   "file_extension": ".py",
   "mimetype": "text/x-python",
   "name": "python",
   "nbconvert_exporter": "python",
   "pygments_lexer": "ipython3",
   "version": "3.7.10"
  },
  "orig_nbformat": 4
 },
 "nbformat": 4,
 "nbformat_minor": 2
}
