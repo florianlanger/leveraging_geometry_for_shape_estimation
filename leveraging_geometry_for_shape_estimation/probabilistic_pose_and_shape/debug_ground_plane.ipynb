{
 "cells": [
  {
   "cell_type": "code",
   "execution_count": 1,
   "metadata": {},
   "outputs": [
    {
     "name": "stderr",
     "output_type": "stream",
     "text": [
      "** fvcore version of PathManager will be deprecated soon. **\n",
      "** Please migrate to the version in iopath repo. **\n",
      "https://github.com/facebookresearch/iopath \n",
      "\n"
     ]
    }
   ],
   "source": [
    "from leveraging_geometry_for_shape_estimation.probabilistic_pose_and_shape.ground_plane import get_model_to_infos\n",
    "from pytorch3d.io import load_objs_as_meshes, save_obj, load_obj\n",
    "import k3d\n",
    "import numpy as np\n",
    "import os"
   ]
  },
  {
   "cell_type": "code",
   "execution_count": 2,
   "metadata": {},
   "outputs": [],
   "source": [
    "model_to_infos = get_model_to_infos()"
   ]
  },
  {
   "cell_type": "code",
   "execution_count": 4,
   "metadata": {},
   "outputs": [
    {
     "name": "stderr",
     "output_type": "stream",
     "text": [
      "/home/mifs/fml35/environments/shape_env/lib/python3.7/site-packages/traittypes/traittypes.py:101: UserWarning: Given trait value dtype \"float64\" does not match required type \"float32\". A coerced copy has been created.\n",
      "  np.dtype(self.dtype).name))\n",
      "/home/mifs/fml35/environments/shape_env/lib/python3.7/site-packages/traittypes/traittypes.py:101: UserWarning: Given trait value dtype \"int64\" does not match required type \"uint32\". A coerced copy has been created.\n",
      "  np.dtype(self.dtype).name))\n",
      "/home/mifs/fml35/environments/shape_env/lib/python3.7/site-packages/traittypes/traittypes.py:101: UserWarning: Given trait value dtype \"int64\" does not match required type \"float32\". A coerced copy has been created.\n",
      "  np.dtype(self.dtype).name))\n"
     ]
    },
    {
     "data": {
      "application/vnd.jupyter.widget-view+json": {
       "model_id": "e01b7cb2e1f1490180df0b02912a617e",
       "version_major": 2,
       "version_minor": 0
      },
      "text/plain": [
       "Output()"
      ]
     },
     "metadata": {},
     "output_type": "display_data"
    }
   ],
   "source": [
    "shapenet_path = '/scratches/octopus_2/fml35/datasets/shapenet_v2/ShapeNetRenamed/model/'\n",
    "\n",
    "\n",
    "for cat in os.listdir(shapenet_path)[3:4]:\n",
    "    for model in os.listdir(shapenet_path + '/' + cat)[:1]:\n",
    "\n",
    "        plane_v = np.array([[1,0,1],[1,0,-1],[-1,0,1],[-1,0,-1]])\n",
    "        plane_f = np.array([[2,0,1],[3,2,1],[2,1,0],[3,1,2]])\n",
    "\n",
    "        infos = model_to_infos[cat + '_' + model]\n",
    "\n",
    "        shift_y = infos['bbox'][1] - infos['center'][1]\n",
    "        shift_vector = np.array([0,shift_y,0])\n",
    "\n",
    "        vertices,faces,properties = load_obj('{}/{}/{}/model_normalized.obj'.format(shapenet_path,cat,model),create_texture_atlas=False, load_textures=False)\n",
    "\n",
    "        plot = k3d.plot()\n",
    "\n",
    "        plot += k3d.mesh(np.array(vertices)+shift_vector,np.array(faces[0]),color=(64 + 128 * 256))\n",
    "        plot += k3d.mesh(plane_v,plane_f,color=(64 + 128 * 256))\n",
    "\n",
    "        plot.display()"
   ]
  },
  {
   "cell_type": "code",
   "execution_count": null,
   "metadata": {},
   "outputs": [],
   "source": []
  }
 ],
 "metadata": {
  "interpreter": {
   "hash": "2b32248b32cb18190abbd4f0a784a70338ce7d4765f38bc190763b9ee5f2d639"
  },
  "kernelspec": {
   "display_name": "Python 3.7.10 64-bit",
   "language": "python",
   "name": "python3"
  },
  "language_info": {
   "codemirror_mode": {
    "name": "ipython",
    "version": 3
   },
   "file_extension": ".py",
   "mimetype": "text/x-python",
   "name": "python",
   "nbconvert_exporter": "python",
   "pygments_lexer": "ipython3",
   "version": "3.7.10"
  },
  "orig_nbformat": 4
 },
 "nbformat": 4,
 "nbformat_minor": 2
}
