{
 "cells": [
  {
   "cell_type": "code",
   "execution_count": 2,
   "metadata": {},
   "outputs": [],
   "source": [
    "gwangbin_split_path = '/scratches/octopus_2/fml35/datasets/scannet/data_splits_gwangbin/train_v2.txt'\n",
    "with open(gwangbin_split_path,'r') as f:\n",
    "    lines_gb = f.readlines()\n"
   ]
  },
  {
   "cell_type": "code",
   "execution_count": 3,
   "metadata": {},
   "outputs": [],
   "source": [
    "own_path = '/scratches/octopus_2/fml35/datasets/scannet/data_splits/scannetv2_train.txt'\n",
    "with open(own_path,'r') as f:\n",
    "    lines_own = f.readlines()"
   ]
  },
  {
   "cell_type": "code",
   "execution_count": 4,
   "metadata": {},
   "outputs": [
    {
     "name": "stdout",
     "output_type": "stream",
     "text": [
      "scene0567_01\n"
     ]
    }
   ],
   "source": [
    "lines_own = [line.split('\\n')[0] for line in lines_own]\n",
    "lines_gb = [line.split('\\n')[0] for line in lines_gb]\n",
    "\n",
    "print(lines_own[-1])\n",
    "\n"
   ]
  },
  {
   "cell_type": "code",
   "execution_count": 5,
   "metadata": {},
   "outputs": [],
   "source": [
    "assert len(lines_gb) == len(lines_own)\n",
    "assert len(set(lines_gb)) == len(lines_gb)\n",
    "assert len(set(lines_own)) == len(lines_own)\n",
    "\n",
    "for line in lines_gb:\n",
    "\n",
    "    assert line in lines_own, (line,lines_own)"
   ]
  },
  {
   "cell_type": "code",
   "execution_count": 8,
   "metadata": {},
   "outputs": [],
   "source": [
    "gwangbin_split_path = '/scratches/gwangban_3/fml35/code/monodepth/data_split/scannet_v2-val.txt'\n",
    "with open(gwangbin_split_path,'r') as f:\n",
    "    lines_gb = f.readlines()\n",
    "\n",
    "own_path = '/scratches/octopus_2/fml35/datasets/scannet/data_splits/scannetv2_val.txt'\n",
    "with open(own_path,'r') as f:\n",
    "    lines_own = f.readlines()\n",
    "\n",
    "lines_own = [line.split('\\n')[0] for line in lines_own]\n",
    "lines_gb = [line.split('\\n')[0] for line in lines_gb]\n",
    "\n",
    "\n",
    "assert len(lines_gb) == len(lines_own)\n",
    "assert len(set(lines_gb)) == len(lines_gb)\n",
    "assert len(set(lines_own)) == len(lines_own)\n",
    "\n",
    "for line in lines_gb:\n",
    "\n",
    "    assert line in lines_own, (line,lines_own)"
   ]
  },
  {
   "cell_type": "code",
   "execution_count": null,
   "metadata": {},
   "outputs": [],
   "source": []
  }
 ],
 "metadata": {
  "interpreter": {
   "hash": "1181cd9e184d62ccf7c6362bdea157e035f7efc86a1b5f4127307a4af794b712"
  },
  "kernelspec": {
   "display_name": "Python 3.7.10 64-bit ('torch1.9': virtualenv)",
   "language": "python",
   "name": "python3"
  },
  "language_info": {
   "codemirror_mode": {
    "name": "ipython",
    "version": 3
   },
   "file_extension": ".py",
   "mimetype": "text/x-python",
   "name": "python",
   "nbconvert_exporter": "python",
   "pygments_lexer": "ipython3",
   "version": "3.7.10"
  },
  "orig_nbformat": 4
 },
 "nbformat": 4,
 "nbformat_minor": 2
}
