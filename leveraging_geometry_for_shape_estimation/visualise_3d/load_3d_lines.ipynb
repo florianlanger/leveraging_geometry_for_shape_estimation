{
 "cells": [
  {
   "cell_type": "code",
   "execution_count": 12,
   "metadata": {},
   "outputs": [],
   "source": [
    "from glob import glob\n",
    "import json\n",
    "import os"
   ]
  },
  {
   "cell_type": "code",
   "execution_count": 4,
   "metadata": {},
   "outputs": [
    {
     "name": "stdout",
     "output_type": "stream",
     "text": [
      "{'02747177_85d8a1ad55fa646878725384d6baf445': 1, '03001627_b1da0d9aab6d2308608505d960f2a393': 3, '04379243_5c7dde9febf82c72e4d8d44a2bc9dd4d': 1, '03211117_6fcbee5937d1cf28e5dbcc9343304f4a': 2, '04379243_460a915796f36eaa55f86bb3ad320a33': 1, '02773838_54cd45b275f551b276bb31db0358e9c6': 1}\n"
     ]
    }
   ],
   "source": [
    "dataset = '/scratch2/fml35/experiments/leveraging_geometry_for_shape/exp_117_scannet_models/models/edge_points/'\n",
    "\n",
    "scene_names = \"scene0300_00\"\n",
    "\n",
    "cad_appearances_path = '/scratch2/fml35/datasets/scannet/scan2cad_annotations/cad_appearances.json'\n",
    "\n",
    "with open(cad_appearances_path,'r') as f:\n",
    "    cad_appearances = json.load(f)\n",
    "\n",
    "# for key in cad_appearances:\n",
    "#     print(cad_appearances[k])\n",
    "#     break\n",
    "print(cad_appearances[scene_names])"
   ]
  },
  {
   "cell_type": "code",
   "execution_count": 5,
   "metadata": {},
   "outputs": [
    {
     "name": "stdout",
     "output_type": "stream",
     "text": [
      "['04379243 table \\n', '03593526 jar\\n', '04225987 skateboard\\n', '02958343 car \\n', '02876657 bottle\\n', '04460130 tower\\n', '03001627 chair\\n', '02871439 bookshelf\\n', '02942699 camera\\n', '02691156 airplane\\n', '03642806 laptop\\n', '02801938 basket\\n', '04256520 sofa\\n', '03624134 knife\\n', '02946921 can\\n', '04090263 rifle\\n', '04468005 train\\n', '03938244 pillow\\n', '03636649 lamp\\n', '02747177 trash bin \\n', '03710193 mailbox\\n', '04530566 watercraft\\n', '03790512 motorbike\\n', '03207941 dishwasher\\n', '02828884 bench\\n', '03948459 pistol\\n', '04099429 rocket\\n', '03691459 loudspeaker\\n', '03337140 file cabinet\\n', '02773838 bag \\n', '02933112 cabinet\\n', '02818832 bed\\n', '02843684 birdhouse\\n', '03211117 display\\n', '03928116 piano\\n', '03261776 earphone\\n', '04401088 telephone\\n', '04330267 stove\\n', '03759954 microphone\\n', '02924116 bus\\n', '03797390 mug\\n', '04074963 remote\\n', '02808440 bathtub\\n', '02880940 bowl\\n', '03085013 keyboard\\n', '03467517 guitar\\n', '04554684 washer\\n', '02834778 bicycle\\n', '03325088 faucet\\n', '04004475 printer\\n', '02954340 cap']\n"
     ]
    }
   ],
   "source": [
    "with open('/scratch2/fml35/datasets/scannet/shapenet_synset_list.txt') as f:\n",
    "    lines = f.readlines()\n",
    "print(lines)"
   ]
  },
  {
   "cell_type": "code",
   "execution_count": 7,
   "metadata": {},
   "outputs": [
    {
     "name": "stdout",
     "output_type": "stream",
     "text": [
      "{'04379243': 'table', '03593526': 'jar', '04225987': 'skateboard', '02958343': 'car', '02876657': 'bottle', '04460130': 'tower', '03001627': 'chair', '02871439': 'bookshelf', '02942699': 'camera', '02691156': 'airplane', '03642806': 'laptop', '02801938': 'basket', '04256520': 'sofa', '03624134': 'knife', '02946921': 'can', '04090263': 'rifle', '04468005': 'train', '03938244': 'pillow', '03636649': 'lamp', '02747177': 'trash', '03710193': 'mailbox', '04530566': 'watercraft', '03790512': 'motorbike', '03207941': 'dishwasher', '02828884': 'bench', '03948459': 'pistol', '04099429': 'rocket', '03691459': 'loudspeaker', '03337140': 'file', '02773838': 'bag', '02933112': 'cabinet', '02818832': 'bed', '02843684': 'birdhouse', '03211117': 'display', '03928116': 'piano', '03261776': 'earphone', '04401088': 'telephone', '04330267': 'stove', '03759954': 'microphone', '02924116': 'bus', '03797390': 'mug', '04074963': 'remote', '02808440': 'bathtub', '02880940': 'bowl', '03085013': 'keyboard', '03467517': 'guitar', '04554684': 'washer', '02834778': 'bicycle', '03325088': 'faucet', '04004475': 'printer', '02954340': 'cap'}\n"
     ]
    }
   ],
   "source": [
    "catid_to_name = {}\n",
    "for line in lines:\n",
    "    split = line.replace('\\n','').split(' ')\n",
    "    catid_to_name[split[0]] = split[1]\n",
    "print(catid_to_name)"
   ]
  },
  {
   "cell_type": "code",
   "execution_count": 18,
   "metadata": {},
   "outputs": [
    {
     "name": "stdout",
     "output_type": "stream",
     "text": [
      "scp fml35@octopus:/scratch2/fml35/datasets/shapenet_v2/ShapeNetCore.v2/02747177/85d8a1ad55fa646878725384d6baf445/models/model_normalized.obj ~/Dokumente/phd_data/visualise_ply/inspect1/02747177_85d8a1ad55fa646878725384d6baf445_model_normalized.obj &scp fml35@octopus:/scratch2/fml35/datasets/shapenet_v2/ShapeNetCore.v2/02773838/54cd45b275f551b276bb31db0358e9c6/models/model_normalized.obj ~/Dokumente/phd_data/visualise_ply/inspect1/02773838_54cd45b275f551b276bb31db0358e9c6_model_normalized.obj &scp fml35@octopus:/scratch2/fml35/datasets/shapenet_v2/ShapeNetCore.v2/03001627/b1da0d9aab6d2308608505d960f2a393/models/model_normalized.obj ~/Dokumente/phd_data/visualise_ply/inspect1/03001627_b1da0d9aab6d2308608505d960f2a393_model_normalized.obj &scp fml35@octopus:/scratch2/fml35/datasets/shapenet_v2/ShapeNetCore.v2/03211117/6fcbee5937d1cf28e5dbcc9343304f4a/models/model_normalized.obj ~/Dokumente/phd_data/visualise_ply/inspect1/03211117_6fcbee5937d1cf28e5dbcc9343304f4a_model_normalized.obj &scp fml35@octopus:/scratch2/fml35/datasets/shapenet_v2/ShapeNetCore.v2/04379243/460a915796f36eaa55f86bb3ad320a33/models/model_normalized.obj ~/Dokumente/phd_data/visualise_ply/inspect1/04379243_460a915796f36eaa55f86bb3ad320a33_model_normalized.obj &scp fml35@octopus:/scratch2/fml35/datasets/shapenet_v2/ShapeNetCore.v2/04379243/5c7dde9febf82c72e4d8d44a2bc9dd4d/models/model_normalized.obj ~/Dokumente/phd_data/visualise_ply/inspect1/04379243_5c7dde9febf82c72e4d8d44a2bc9dd4d_model_normalized.obj &\n"
     ]
    }
   ],
   "source": [
    "line = ''\n",
    "target_dir = '~/Dokumente/phd_data/visualise_ply/inspect1/'\n",
    "dir_path = '/scratch2/fml35/datasets/shapenet_v2/ShapeNetCore.v2/{}/{}/models/model_normalized.obj'\n",
    "for cad_model in sorted(cad_appearances[scene_names]):\n",
    "    cat_id = cad_model.split('_')[0]\n",
    "    model_id = cad_model.split('_')[1]\n",
    "    category = catid_to_name[cat_id]\n",
    "    path = '/scratch2/fml35/datasets/shapenet_v2/ShapeNetCore.v2/{}/{}/models/model_normalized.obj'.format(cat_id,model_id)\n",
    "    line += 'scp fml35@octopus:' + path + ' ' + target_dir + category + '_' + cat_id + '_' + model_id + '_model_normalized.obj &' \n",
    "    assert os.path.exists(path)\n",
    "    # print(catid_to_name[cat_id],cad_model)\n",
    "    # print(path)\n",
    "print(line)\n"
   ]
  },
  {
   "cell_type": "markdown",
   "metadata": {},
   "source": []
  },
  {
   "cell_type": "code",
   "execution_count": 1,
   "metadata": {},
   "outputs": [],
   "source": [
    "list_models = ['table_876794a6a673dcfe502c728096f4ea53', 'table_e0be4621b0ea9893593ebeeedbff73b', 'table_e42e2c616f8c38619ccce4c6d5bb195f', 'table_142060f848466cad97ef9a13efb5e3f7', 'table_b6884eb4e95d851b5f606243e56be258', 'table_4d3cc502d4444c848cbb8bac2032149c', 'table_16570d98a47c9907bd1aeba6ff85928a', 'bin_e500097e7023db9ac951cf8670bfff6', 'table_d3fd6d332e6e8bccd5382f3f8f33a9f4', 'table_577155d24ebec9833ce2d31ef93d6e81', 'bin_44a64fa7c3378f16de27b9aa1df630c0', 'table_6187d4be01231460a341228b21d337a9', 'table_ae4507fa0f4c936a31055213877993a3', 'table_fb7124d1ea2937f252219cd24638ae38', 'table_32f116e50ba1dcde7ff6ace05b36a5', 'bathtub_3b222c644a783ebbfcd4910413c446d9', 'chair_53eea17c88e31519492d9da2668ec34c', 'table_48ff9804a1ae69f4ad5067eac75a07f7', 'bin_56efabe64ce30e08d7bc2c778b186f58', 'table_798598965a343fc9b0957d845ac33749', 'table_d1b97ecf63191e19c19a59cdcb309b91', 'table_11c16f6a5fbedf4213c3458a0fe5598', 'chair_5456ffcbb7bd6b3e4460d09678055ab5', 'bin_1860c92b11061edce3b4c991629e71ab', 'bin_16521a9446e3de14a6f567d4d1e09ecb', 'chair_4c1d6b12b48a80b0ebd10747ca93b13b', 'table_86745eb914ded54c4ddda47ee90d6a21', 'table_2fd962562b9f0370339797c21e8801b1']"
   ]
  },
  {
   "cell_type": "code",
   "execution_count": 2,
   "metadata": {},
   "outputs": [
    {
     "ename": "NameError",
     "evalue": "name 'catid_to_name' is not defined",
     "output_type": "error",
     "traceback": [
      "\u001b[0;31m---------------------------------------------------------------------------\u001b[0m",
      "\u001b[0;31mNameError\u001b[0m                                 Traceback (most recent call last)",
      "\u001b[0;32m/tmp/ipykernel_2923/730957453.py\u001b[0m in \u001b[0;36m<module>\u001b[0;34m\u001b[0m\n\u001b[1;32m      5\u001b[0m     \u001b[0mcat_id\u001b[0m \u001b[0;34m=\u001b[0m \u001b[0mcad_model\u001b[0m\u001b[0;34m.\u001b[0m\u001b[0msplit\u001b[0m\u001b[0;34m(\u001b[0m\u001b[0;34m'_'\u001b[0m\u001b[0;34m)\u001b[0m\u001b[0;34m[\u001b[0m\u001b[0;36m0\u001b[0m\u001b[0;34m]\u001b[0m\u001b[0;34m\u001b[0m\u001b[0;34m\u001b[0m\u001b[0m\n\u001b[1;32m      6\u001b[0m     \u001b[0mmodel_id\u001b[0m \u001b[0;34m=\u001b[0m \u001b[0mcad_model\u001b[0m\u001b[0;34m.\u001b[0m\u001b[0msplit\u001b[0m\u001b[0;34m(\u001b[0m\u001b[0;34m'_'\u001b[0m\u001b[0;34m)\u001b[0m\u001b[0;34m[\u001b[0m\u001b[0;36m1\u001b[0m\u001b[0;34m]\u001b[0m\u001b[0;34m\u001b[0m\u001b[0;34m\u001b[0m\u001b[0m\n\u001b[0;32m----> 7\u001b[0;31m     \u001b[0mcategory\u001b[0m \u001b[0;34m=\u001b[0m \u001b[0mcatid_to_name\u001b[0m\u001b[0;34m[\u001b[0m\u001b[0mcat_id\u001b[0m\u001b[0;34m]\u001b[0m\u001b[0;34m\u001b[0m\u001b[0;34m\u001b[0m\u001b[0m\n\u001b[0m\u001b[1;32m      8\u001b[0m     \u001b[0mpath\u001b[0m \u001b[0;34m=\u001b[0m \u001b[0;34m'/scratch2/fml35/datasets/shapenet_v2/ShapeNetCore.v2/{}/{}/models/model_normalized.obj'\u001b[0m\u001b[0;34m.\u001b[0m\u001b[0mformat\u001b[0m\u001b[0;34m(\u001b[0m\u001b[0mcat_id\u001b[0m\u001b[0;34m,\u001b[0m\u001b[0mmodel_id\u001b[0m\u001b[0;34m)\u001b[0m\u001b[0;34m\u001b[0m\u001b[0;34m\u001b[0m\u001b[0m\n\u001b[1;32m      9\u001b[0m     \u001b[0mline\u001b[0m \u001b[0;34m+=\u001b[0m \u001b[0;34m'scp fml35@octopus:'\u001b[0m \u001b[0;34m+\u001b[0m \u001b[0mpath\u001b[0m \u001b[0;34m+\u001b[0m \u001b[0;34m' '\u001b[0m \u001b[0;34m+\u001b[0m \u001b[0mtarget_dir\u001b[0m \u001b[0;34m+\u001b[0m \u001b[0mcategory\u001b[0m \u001b[0;34m+\u001b[0m \u001b[0;34m'_'\u001b[0m \u001b[0;34m+\u001b[0m \u001b[0mcat_id\u001b[0m \u001b[0;34m+\u001b[0m \u001b[0;34m'_'\u001b[0m \u001b[0;34m+\u001b[0m \u001b[0mmodel_id\u001b[0m \u001b[0;34m+\u001b[0m \u001b[0;34m'_model_normalized.obj &'\u001b[0m\u001b[0;34m\u001b[0m\u001b[0;34m\u001b[0m\u001b[0m\n",
      "\u001b[0;31mNameError\u001b[0m: name 'catid_to_name' is not defined"
     ]
    }
   ],
   "source": [
    "line = ''\n",
    "target_dir = '~/Dokumente/phd_data/visualise_ply/inspect2/'\n",
    "dir_path = '/scratch2/fml35/datasets/shapenet_v2/ShapeNetCore.v2/{}/{}/models/model_normalized.obj'\n",
    "for cad_model in list_models:\n",
    "    category = cad_model.split('_')[0]\n",
    "    model_id = cad_model.split('_')[1]\n",
    "    path = '/scratch2/fml35/datasets/shapenet_v2/ShapeNetCore.v2/{}/{}/models/model_normalized.obj'.format(cat_id,model_id)\n",
    "    line += 'scp fml35@octopus:' + path + ' ' + target_dir + category + '_' + cat_id + '_' + model_id + '_model_normalized.obj &' \n",
    "    assert os.path.exists(path)\n",
    "    # print(catid_to_name[cat_id],cad_model)\n",
    "    # print(path)\n",
    "print(line)"
   ]
  },
  {
   "cell_type": "code",
   "execution_count": null,
   "metadata": {},
   "outputs": [],
   "source": []
  }
 ],
 "metadata": {
  "interpreter": {
   "hash": "2b32248b32cb18190abbd4f0a784a70338ce7d4765f38bc190763b9ee5f2d639"
  },
  "kernelspec": {
   "display_name": "Python 3.7.10 64-bit",
   "language": "python",
   "name": "python3"
  },
  "language_info": {
   "codemirror_mode": {
    "name": "ipython",
    "version": 3
   },
   "file_extension": ".py",
   "mimetype": "text/x-python",
   "name": "python",
   "nbconvert_exporter": "python",
   "pygments_lexer": "ipython3",
   "version": "3.7.10"
  },
  "orig_nbformat": 4
 },
 "nbformat": 4,
 "nbformat_minor": 2
}
